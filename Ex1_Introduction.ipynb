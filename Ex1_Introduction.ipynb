{
 "cells": [
  {
   "cell_type": "markdown",
   "metadata": {
    "collapsed": true
   },
   "source": [
    "# Social Computing - Summer 2019\n",
    "# Exercise 1 - Introduction to Python\n",
    "\n",
    "The Social Computing lecture will be accompanied by six exercise sheets that aim at helping you understand the lecture's topics by dealing with them in more depth, and to familiarize you with practical social computing applications. For your upcoming implementations on these sheets, note that clean and commented code is always a good idea - that way the person who is looking at your solution knows what's going on.\n",
    "\n",
    "The first exercise contains a small set of programming problems to help you getting warm with the Python programming language. The focus lies in covering Python core concepts and data structures which will be used in the next exercises.\n",
    "\n",
    "The first thing to do is import the libraries needed. This should be done at the very beginning."
   ]
  },
  {
   "cell_type": "code",
   "execution_count": null,
   "metadata": {},
   "outputs": [],
   "source": [
    "import random, igraph as ig"
   ]
  },
  {
   "cell_type": "markdown",
   "metadata": {},
   "source": [
    "## Problem 1.1: Fibonacci Series\n",
    "Write a Python method called fibonacci that takes an integer number N as argument and returns the Fibonacci sequence of length N.\n",
    "\n",
    "**Note:** A Fibonacci sequence is a sequence of numbers where each number is the sum of the two previous ones. For example, the Fibonacci sequence of length 5 is: 0, 1, 1, 2, 3 (or 1, 1, 2, 3, 5)"
   ]
  },
  {
   "cell_type": "code",
   "execution_count": null,
   "metadata": {},
   "outputs": [],
   "source": [
    "def fibonacci(N):\n",
    "    fib = [0, 1]\n",
    "    for i in range(2,N):\n",
    "        fib.append(fib[i-2] + fib[i-1])\n",
    "    \n",
    "    return fib"
   ]
  },
  {
   "cell_type": "markdown",
   "metadata": {
    "collapsed": true
   },
   "source": [
    "## Problem 1.2: Loops and User Input\n",
    "\n",
    "In this section, your task is to program a small \"Guess the number\" game. A number between 1 and 100 should be randomly selected and the player should have 5 tries to guess that number correctly. Each time the player guesses, a hint should be given (higher/lower). At the end, the correct guessed or not guessed number as well as the needed tries to get there should be printed out in the console."
   ]
  },
  {
   "cell_type": "code",
   "execution_count": null,
   "metadata": {},
   "outputs": [],
   "source": [
    "print('Welcome to \\'Guess My Number\\'!\\n')\n",
    "print('I\\'m thinking of a number between 1 and 100.')\n",
    "print('Try to guess it in as few attempts as possible.\\n')\n",
    "\n",
    "# Initialize values\n",
    "the_number = random.randint(1, 100)\n",
    "\n",
    "print(the_number)\n",
    "tries = 0\n",
    "\n",
    "while (tries < 5):\n",
    "    user_input = input (\"Enter your guess: \")\n",
    "    try:\n",
    "        guess = int(user_input)\n",
    "        if guess > 100 or guess < 1:\n",
    "            raise ValueError\n",
    "        \n",
    "        tries+=1\n",
    "        if the_number < guess:\n",
    "            print(\"lower...\")\n",
    "            \n",
    "        elif the_number > guess:\n",
    "            print(\"higher...\")\n",
    "            \n",
    "        else:\n",
    "            print(\"That's right!\")\n",
    "            break;\n",
    "            \n",
    "    except ValueError:\n",
    "        print(\"Please enter an integer number from 1 to 100!\")\n",
    "        \n",
    "print(\"The correct number was \" + str(the_number))\n",
    "print(\"Tries: \" + str(tries))"
   ]
  },
  {
   "cell_type": "markdown",
   "metadata": {},
   "source": [
    "## Problem 1.3: It's Social Computing - we use graphs, a lot of graphs\n",
    "In social computing research, we need powerful tools to create, manipulate and display graphs. Luckily, there is a plethora of tools and libaries for that. Especially for the second exercise sheet, we are going to use **igraph** which also comes as a [Python library](https://igraph.org/python). It provides rich graph data structures and many out-of-the-box functions to process graphs and calculate different metrics. The tasks below should make you familiar with the library.<br>\n",
    "You can find its manual [here](https://igraph.org/python/doc/igraph-module.html) and a tutorial [here](https://igraph.org/python/doc/tutorial/tutorial.html).\n",
    "\n",
    "To give you a short background on graph visualization, it is the research area in mathematics/computer science concerned with drawing graphs. It has applications in many fields, one of them is social computing. The quality of graph visualization is measured based on certain criteria, for example crossing minimization and bend minimization. There are many graph drawing algorithms that vary in their quality according to the graph's application and size. One technique is to draw graphs by using physical analogies.<br>\n",
    "The basic idea of this technique is to associate edges between graph nodes with physical forces acting upon the nodes and computing an energy minimum. By setting off the dynamics that is induced by the forces, the graph will finally settle into a natural optimal display. A famous algorithm that implements this technique is the **Fruchtermann-Rheingold** algorithm. Its basic idea is to replace the graph edges with mechanical springs, and let the springs move the system to a minimal energy state.\n",
    "\n",
    "\n",
    "### Task 1: Graph Objects\n",
    "When using igraph, there is the option of initializing Graph objects by hand or by passing an edgelist. Nevertheless, the library also includes famous graphs that can readily be instantiated and used. **Create a Graph object that represents the _Krackhardt Kite graph_ which is a simple connected, unweighted and undirected social network. Then plot the graph.**"
   ]
  },
  {
   "cell_type": "code",
   "execution_count": null,
   "metadata": {
    "scrolled": false
   },
   "outputs": [],
   "source": [
    "# TODO: Create the Krackhardt Kite graph"
   ]
  },
  {
   "cell_type": "markdown",
   "metadata": {},
   "source": [
    "### Task 2: Small World Graph\n",
    "In the lecture, you learned about the small world graph, also known as _Watts-Strogatz graph_. **Create such a graph with 20 nodes and the following parameters: dimension 1, nodes connected to neighbors of distance of most 3, and rewiring probability 0**\n",
    "\n",
    "Afterwards, vary the parameters (increase/decrease the dimension, rewiring probability, ...) and run your code again. Also set the layout to Fruchtermann-Reingold and see what happens. **What changes do you observe?** Don't write more than 5 sentences."
   ]
  },
  {
   "cell_type": "code",
   "execution_count": null,
   "metadata": {},
   "outputs": [],
   "source": [
    "# TODO: Create a Watts-Strogatz graph"
   ]
  },
  {
   "cell_type": "markdown",
   "metadata": {},
   "source": [
    "**TODO: Write your observations here!**"
   ]
  }
 ],
 "metadata": {
  "anaconda-cloud": {},
  "kernelspec": {
   "display_name": "Python 3",
   "language": "python",
   "name": "python3"
  },
  "language_info": {
   "codemirror_mode": {
    "name": "ipython",
    "version": 3
   },
   "file_extension": ".py",
   "mimetype": "text/x-python",
   "name": "python",
   "nbconvert_exporter": "python",
   "pygments_lexer": "ipython3",
   "version": "3.4.3"
  }
 },
 "nbformat": 4,
 "nbformat_minor": 1
}
