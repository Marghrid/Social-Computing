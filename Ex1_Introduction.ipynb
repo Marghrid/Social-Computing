{
 "cells": [
  {
   "cell_type": "markdown",
   "metadata": {
    "collapsed": true
   },
   "source": [
    "# Social Computing - Summer 2019\n",
    "# Exercise 1 - Introduction to Python\n",
    "\n",
    "The Social Computing lecture will be accompanied by six exercise sheets that aim at helping you understand the lecture's topics by dealing with them in more depth, and to familiarize you with practical social computing applications. For your upcoming implementations on these sheets, note that clean and commented code is always a good idea - that way the person who is looking at your solution knows what's going on.\n",
    "\n",
    "The first exercise contains a small set of programming problems to help you getting warm with the Python programming language. The focus lies in covering Python core concepts and data structures which will be used in the next exercises.\n",
    "\n",
    "The first thing to do is import the libraries needed. This should be done at the very beginning."
   ]
  },
  {
   "cell_type": "code",
   "execution_count": 1,
   "metadata": {},
   "outputs": [],
   "source": [
    "import random, igraph as ig"
   ]
  },
  {
   "cell_type": "markdown",
   "metadata": {},
   "source": [
    "## Problem 1.1: Fibonacci Series\n",
    "Write a Python method called fibonacci that takes an integer number N as argument and returns the Fibonacci sequence of length N.\n",
    "\n",
    "**Note:** A Fibonacci sequence is a sequence of numbers where each number is the sum of the two previous ones. For example, the Fibonacci sequence of length 5 is: 0, 1, 1, 2, 3 (or 1, 1, 2, 3, 5)"
   ]
  },
  {
   "cell_type": "code",
   "execution_count": 2,
   "metadata": {},
   "outputs": [],
   "source": [
    "def fibonacci(N):\n",
    "    fib = [0, 1]\n",
    "    for i in range(2,N):\n",
    "        fib.append(fib[i-2] + fib[i-1])\n",
    "    \n",
    "    return fib"
   ]
  },
  {
   "cell_type": "markdown",
   "metadata": {
    "collapsed": true
   },
   "source": [
    "## Problem 1.2: Loops and User Input\n",
    "\n",
    "In this section, your task is to program a small \"Guess the number\" game. A number between 1 and 100 should be randomly selected and the player should have 5 tries to guess that number correctly. Each time the player guesses, a hint should be given (higher/lower). At the end, the correct guessed or not guessed number as well as the needed tries to get there should be printed out in the console."
   ]
  },
  {
   "cell_type": "code",
   "execution_count": 3,
   "metadata": {},
   "outputs": [
    {
     "name": "stdout",
     "output_type": "stream",
     "text": [
      "Welcome to 'Guess My Number'!\n",
      "\n",
      "I'm thinking of a number between 1 and 100.\n",
      "Try to guess it in as few attempts as possible.\n",
      "\n",
      "Enter your guess: 50\n",
      "lower...\n",
      "Enter your guess: 25\n",
      "higher...\n",
      "Enter your guess: 35\n",
      "higher...\n",
      "Enter your guess: 45\n",
      "lower...\n",
      "Enter your guess: 40\n",
      "That's right!\n",
      "The correct number was 40\n",
      "Tries: 5\n"
     ]
    }
   ],
   "source": [
    "print('Welcome to \\'Guess My Number\\'!\\n')\n",
    "print('I\\'m thinking of a number between 1 and 100.')\n",
    "print('Try to guess it in as few attempts as possible.\\n')\n",
    "\n",
    "# Initialize values\n",
    "the_number = random.randint(1, 100)\n",
    "\n",
    "tries = 0\n",
    "\n",
    "while (tries < 5):\n",
    "    user_input = input (\"Enter your guess: \")\n",
    "    try:\n",
    "        guess = int(user_input)\n",
    "        if guess > 100 or guess < 1:\n",
    "            raise ValueError\n",
    "        \n",
    "        tries+=1\n",
    "        if the_number < guess:\n",
    "            print(\"lower...\")\n",
    "            \n",
    "        elif the_number > guess:\n",
    "            print(\"higher...\")\n",
    "            \n",
    "        else:\n",
    "            print(\"That's right!\")\n",
    "            break;\n",
    "            \n",
    "    except ValueError:\n",
    "        print(\"Please enter an integer number from 1 to 100!\")\n",
    "        \n",
    "print(\"The correct number was \" + str(the_number))\n",
    "print(\"Tries: \" + str(tries))"
   ]
  },
  {
   "cell_type": "markdown",
   "metadata": {},
   "source": [
    "## Problem 1.3: It's Social Computing - we use graphs, a lot of graphs\n",
    "In social computing research, we need powerful tools to create, manipulate and display graphs. Luckily, there is a plethora of tools and libaries for that. Especially for the second exercise sheet, we are going to use **igraph** which also comes as a [Python library](https://igraph.org/python). It provides rich graph data structures and many out-of-the-box functions to process graphs and calculate different metrics. The tasks below should make you familiar with the library.<br>\n",
    "You can find its manual [here](https://igraph.org/python/doc/igraph-module.html) and a tutorial [here](https://igraph.org/python/doc/tutorial/tutorial.html).\n",
    "\n",
    "To give you a short background on graph visualization, it is the research area in mathematics/computer science concerned with drawing graphs. It has applications in many fields, one of them is social computing. The quality of graph visualization is measured based on certain criteria, for example crossing minimization and bend minimization. There are many graph drawing algorithms that vary in their quality according to the graph's application and size. One technique is to draw graphs by using physical analogies.<br>\n",
    "The basic idea of this technique is to associate edges between graph nodes with physical forces acting upon the nodes and computing an energy minimum. By setting off the dynamics that is induced by the forces, the graph will finally settle into a natural optimal display. A famous algorithm that implements this technique is the **Fruchtermann-Rheingold** algorithm. Its basic idea is to replace the graph edges with mechanical springs, and let the springs move the system to a minimal energy state.\n",
    "\n",
    "\n",
    "### Task 1: Graph Objects\n",
    "When using igraph, there is the option of initializing Graph objects by hand or by passing an edgelist. Nevertheless, the library also includes famous graphs that can readily be instantiated and used. **Create a Graph object that represents the _Krackhardt Kite graph_ which is a simple connected, unweighted and undirected social network. Then plot the graph.**"
   ]
  },
  {
   "cell_type": "code",
   "execution_count": 4,
   "metadata": {
    "scrolled": false
   },
   "outputs": [
    {
     "data": {
      "image/svg+xml": [
       "<?xml version=\"1.0\" encoding=\"UTF-8\"?>\n",
       "<svg xmlns=\"http://www.w3.org/2000/svg\" xmlns:xlink=\"http://www.w3.org/1999/xlink\" width=\"600pt\" height=\"600pt\" viewBox=\"0 0 600 600\" version=\"1.1\">\n",
       "<g id=\"surface2\">\n",
       "<rect x=\"0\" y=\"0\" width=\"600\" height=\"600\" style=\"fill:rgb(100%,100%,100%);fill-opacity:1;stroke:none;\"/>\n",
       "<path style=\"fill:none;stroke-width:1;stroke-linecap:butt;stroke-linejoin:miter;stroke:rgb(26.666667%,26.666667%,26.666667%);stroke-opacity:1;stroke-miterlimit:10;\" d=\"M 470.976562 36.347656 L 567.394531 138.390625 \"/>\n",
       "<path style=\"fill:none;stroke-width:1;stroke-linecap:butt;stroke-linejoin:miter;stroke:rgb(26.666667%,26.666667%,26.666667%);stroke-opacity:1;stroke-miterlimit:10;\" d=\"M 470.976562 36.347656 L 373.203125 20 \"/>\n",
       "<path style=\"fill:none;stroke-width:1;stroke-linecap:butt;stroke-linejoin:miter;stroke:rgb(26.666667%,26.666667%,26.666667%);stroke-opacity:1;stroke-miterlimit:10;\" d=\"M 470.976562 36.347656 L 473.382812 132.261719 \"/>\n",
       "<path style=\"fill:none;stroke-width:1;stroke-linecap:butt;stroke-linejoin:miter;stroke:rgb(26.666667%,26.666667%,26.666667%);stroke-opacity:1;stroke-miterlimit:10;\" d=\"M 470.976562 36.347656 L 360.589844 155.523438 \"/>\n",
       "<path style=\"fill:none;stroke-width:1;stroke-linecap:butt;stroke-linejoin:miter;stroke:rgb(26.666667%,26.666667%,26.666667%);stroke-opacity:1;stroke-miterlimit:10;\" d=\"M 567.394531 138.390625 L 473.382812 132.261719 \"/>\n",
       "<path style=\"fill:none;stroke-width:1;stroke-linecap:butt;stroke-linejoin:miter;stroke:rgb(26.666667%,26.666667%,26.666667%);stroke-opacity:1;stroke-miterlimit:10;\" d=\"M 567.394531 138.390625 L 580 238.300781 \"/>\n",
       "<path style=\"fill:none;stroke-width:1;stroke-linecap:butt;stroke-linejoin:miter;stroke:rgb(26.666667%,26.666667%,26.666667%);stroke-opacity:1;stroke-miterlimit:10;\" d=\"M 567.394531 138.390625 L 446.628906 246.410156 \"/>\n",
       "<path style=\"fill:none;stroke-width:1;stroke-linecap:butt;stroke-linejoin:miter;stroke:rgb(26.666667%,26.666667%,26.666667%);stroke-opacity:1;stroke-miterlimit:10;\" d=\"M 373.203125 20 L 473.382812 132.261719 \"/>\n",
       "<path style=\"fill:none;stroke-width:1;stroke-linecap:butt;stroke-linejoin:miter;stroke:rgb(26.666667%,26.666667%,26.666667%);stroke-opacity:1;stroke-miterlimit:10;\" d=\"M 373.203125 20 L 360.589844 155.523438 \"/>\n",
       "<path style=\"fill:none;stroke-width:1;stroke-linecap:butt;stroke-linejoin:miter;stroke:rgb(26.666667%,26.666667%,26.666667%);stroke-opacity:1;stroke-miterlimit:10;\" d=\"M 473.382812 132.261719 L 580 238.300781 \"/>\n",
       "<path style=\"fill:none;stroke-width:1;stroke-linecap:butt;stroke-linejoin:miter;stroke:rgb(26.666667%,26.666667%,26.666667%);stroke-opacity:1;stroke-miterlimit:10;\" d=\"M 473.382812 132.261719 L 360.589844 155.523438 \"/>\n",
       "<path style=\"fill:none;stroke-width:1;stroke-linecap:butt;stroke-linejoin:miter;stroke:rgb(26.666667%,26.666667%,26.666667%);stroke-opacity:1;stroke-miterlimit:10;\" d=\"M 473.382812 132.261719 L 446.628906 246.410156 \"/>\n",
       "<path style=\"fill:none;stroke-width:1;stroke-linecap:butt;stroke-linejoin:miter;stroke:rgb(26.666667%,26.666667%,26.666667%);stroke-opacity:1;stroke-miterlimit:10;\" d=\"M 580 238.300781 L 446.628906 246.410156 \"/>\n",
       "<path style=\"fill:none;stroke-width:1;stroke-linecap:butt;stroke-linejoin:miter;stroke:rgb(26.666667%,26.666667%,26.666667%);stroke-opacity:1;stroke-miterlimit:10;\" d=\"M 360.589844 155.523438 L 446.628906 246.410156 \"/>\n",
       "<path style=\"fill:none;stroke-width:1;stroke-linecap:butt;stroke-linejoin:miter;stroke:rgb(26.666667%,26.666667%,26.666667%);stroke-opacity:1;stroke-miterlimit:10;\" d=\"M 360.589844 155.523438 L 279.582031 323.296875 \"/>\n",
       "<path style=\"fill:none;stroke-width:1;stroke-linecap:butt;stroke-linejoin:miter;stroke:rgb(26.666667%,26.666667%,26.666667%);stroke-opacity:1;stroke-miterlimit:10;\" d=\"M 446.628906 246.410156 L 279.582031 323.296875 \"/>\n",
       "<path style=\"fill:none;stroke-width:1;stroke-linecap:butt;stroke-linejoin:miter;stroke:rgb(26.666667%,26.666667%,26.666667%);stroke-opacity:1;stroke-miterlimit:10;\" d=\"M 279.582031 323.296875 L 133.382812 467.789062 \"/>\n",
       "<path style=\"fill:none;stroke-width:1;stroke-linecap:butt;stroke-linejoin:miter;stroke:rgb(26.666667%,26.666667%,26.666667%);stroke-opacity:1;stroke-miterlimit:10;\" d=\"M 133.382812 467.789062 L 20 580 \"/>\n",
       "<path style=\"fill-rule:nonzero;fill:rgb(100%,0%,0%);fill-opacity:1;stroke-width:1;stroke-linecap:butt;stroke-linejoin:miter;stroke:rgb(0%,0%,0%);stroke-opacity:1;stroke-miterlimit:10;\" d=\"M 480.976562 36.347656 C 480.976562 41.871094 476.5 46.347656 470.976562 46.347656 C 465.453125 46.347656 460.976562 41.871094 460.976562 36.347656 C 460.976562 30.824219 465.453125 26.347656 470.976562 26.347656 C 476.5 26.347656 480.976562 30.824219 480.976562 36.347656 \"/>\n",
       "<path style=\"fill-rule:nonzero;fill:rgb(100%,0%,0%);fill-opacity:1;stroke-width:1;stroke-linecap:butt;stroke-linejoin:miter;stroke:rgb(0%,0%,0%);stroke-opacity:1;stroke-miterlimit:10;\" d=\"M 577.394531 138.390625 C 577.394531 143.914062 572.917969 148.390625 567.394531 148.390625 C 561.871094 148.390625 557.394531 143.914062 557.394531 138.390625 C 557.394531 132.867188 561.871094 128.390625 567.394531 128.390625 C 572.917969 128.390625 577.394531 132.867188 577.394531 138.390625 \"/>\n",
       "<path style=\"fill-rule:nonzero;fill:rgb(100%,0%,0%);fill-opacity:1;stroke-width:1;stroke-linecap:butt;stroke-linejoin:miter;stroke:rgb(0%,0%,0%);stroke-opacity:1;stroke-miterlimit:10;\" d=\"M 383.203125 20 C 383.203125 25.523438 378.726562 30 373.203125 30 C 367.679688 30 363.203125 25.523438 363.203125 20 C 363.203125 14.476562 367.679688 10 373.203125 10 C 378.726562 10 383.203125 14.476562 383.203125 20 \"/>\n",
       "<path style=\"fill-rule:nonzero;fill:rgb(100%,0%,0%);fill-opacity:1;stroke-width:1;stroke-linecap:butt;stroke-linejoin:miter;stroke:rgb(0%,0%,0%);stroke-opacity:1;stroke-miterlimit:10;\" d=\"M 483.382812 132.261719 C 483.382812 137.785156 478.90625 142.261719 473.382812 142.261719 C 467.859375 142.261719 463.382812 137.785156 463.382812 132.261719 C 463.382812 126.742188 467.859375 122.261719 473.382812 122.261719 C 478.90625 122.261719 483.382812 126.742188 483.382812 132.261719 \"/>\n",
       "<path style=\"fill-rule:nonzero;fill:rgb(100%,0%,0%);fill-opacity:1;stroke-width:1;stroke-linecap:butt;stroke-linejoin:miter;stroke:rgb(0%,0%,0%);stroke-opacity:1;stroke-miterlimit:10;\" d=\"M 590 238.300781 C 590 243.820312 585.523438 248.300781 580 248.300781 C 574.476562 248.300781 570 243.820312 570 238.300781 C 570 232.777344 574.476562 228.300781 580 228.300781 C 585.523438 228.300781 590 232.777344 590 238.300781 \"/>\n",
       "<path style=\"fill-rule:nonzero;fill:rgb(100%,0%,0%);fill-opacity:1;stroke-width:1;stroke-linecap:butt;stroke-linejoin:miter;stroke:rgb(0%,0%,0%);stroke-opacity:1;stroke-miterlimit:10;\" d=\"M 370.589844 155.523438 C 370.589844 161.046875 366.113281 165.523438 360.589844 165.523438 C 355.070312 165.523438 350.589844 161.046875 350.589844 155.523438 C 350.589844 150 355.070312 145.523438 360.589844 145.523438 C 366.113281 145.523438 370.589844 150 370.589844 155.523438 \"/>\n",
       "<path style=\"fill-rule:nonzero;fill:rgb(100%,0%,0%);fill-opacity:1;stroke-width:1;stroke-linecap:butt;stroke-linejoin:miter;stroke:rgb(0%,0%,0%);stroke-opacity:1;stroke-miterlimit:10;\" d=\"M 456.628906 246.410156 C 456.628906 251.933594 452.152344 256.410156 446.628906 256.410156 C 441.105469 256.410156 436.628906 251.933594 436.628906 246.410156 C 436.628906 240.886719 441.105469 236.410156 446.628906 236.410156 C 452.152344 236.410156 456.628906 240.886719 456.628906 246.410156 \"/>\n",
       "<path style=\"fill-rule:nonzero;fill:rgb(100%,0%,0%);fill-opacity:1;stroke-width:1;stroke-linecap:butt;stroke-linejoin:miter;stroke:rgb(0%,0%,0%);stroke-opacity:1;stroke-miterlimit:10;\" d=\"M 289.582031 323.296875 C 289.582031 328.820312 285.105469 333.296875 279.582031 333.296875 C 274.058594 333.296875 269.582031 328.820312 269.582031 323.296875 C 269.582031 317.773438 274.058594 313.296875 279.582031 313.296875 C 285.105469 313.296875 289.582031 317.773438 289.582031 323.296875 \"/>\n",
       "<path style=\"fill-rule:nonzero;fill:rgb(100%,0%,0%);fill-opacity:1;stroke-width:1;stroke-linecap:butt;stroke-linejoin:miter;stroke:rgb(0%,0%,0%);stroke-opacity:1;stroke-miterlimit:10;\" d=\"M 143.382812 467.789062 C 143.382812 473.3125 138.90625 477.789062 133.382812 477.789062 C 127.859375 477.789062 123.382812 473.3125 123.382812 467.789062 C 123.382812 462.265625 127.859375 457.789062 133.382812 457.789062 C 138.90625 457.789062 143.382812 462.265625 143.382812 467.789062 \"/>\n",
       "<path style=\"fill-rule:nonzero;fill:rgb(100%,0%,0%);fill-opacity:1;stroke-width:1;stroke-linecap:butt;stroke-linejoin:miter;stroke:rgb(0%,0%,0%);stroke-opacity:1;stroke-miterlimit:10;\" d=\"M 30 580 C 30 585.523438 25.523438 590 20 590 C 14.476562 590 10 585.523438 10 580 C 10 574.476562 14.476562 570 20 570 C 25.523438 570 30 574.476562 30 580 \"/>\n",
       "</g>\n",
       "</svg>\n"
      ],
      "text/plain": [
       "<igraph.drawing.Plot at 0x7fed4c502080>"
      ]
     },
     "execution_count": 4,
     "metadata": {
      "image/svg+xml": {
       "isolated": true
      }
     },
     "output_type": "execute_result"
    }
   ],
   "source": [
    "g = ig.Graph.Famous(\"Krackhardt_Kite\")\n",
    "layout=g.layout_fruchterman_reingold()\n",
    "ig.plot(g, layout = layout)\n"
   ]
  },
  {
   "cell_type": "markdown",
   "metadata": {},
   "source": [
    "### Task 2: Small World Graph\n",
    "In the lecture, you learned about the small world graph, also known as _Watts-Strogatz graph_. **Create such a graph with 20 nodes and the following parameters: dimension 1, nodes connected to neighbors of distance of most 3, and rewiring probability 0**\n",
    "\n",
    "Afterwards, vary the parameters (increase/decrease the dimension, rewiring probability, ...) and run your code again. Also set the layout to Fruchtermann-Reingold and see what happens. **What changes do you observe?** Don't write more than 5 sentences."
   ]
  },
  {
   "cell_type": "code",
   "execution_count": 5,
   "metadata": {},
   "outputs": [
    {
     "data": {
      "image/svg+xml": [
       "<?xml version=\"1.0\" encoding=\"UTF-8\"?>\n",
       "<svg xmlns=\"http://www.w3.org/2000/svg\" xmlns:xlink=\"http://www.w3.org/1999/xlink\" width=\"600pt\" height=\"600pt\" viewBox=\"0 0 600 600\" version=\"1.1\">\n",
       "<g id=\"surface8\">\n",
       "<rect x=\"0\" y=\"0\" width=\"600\" height=\"600\" style=\"fill:rgb(100%,100%,100%);fill-opacity:1;stroke:none;\"/>\n",
       "<path style=\"fill:none;stroke-width:1;stroke-linecap:butt;stroke-linejoin:miter;stroke:rgb(26.666667%,26.666667%,26.666667%);stroke-opacity:1;stroke-miterlimit:10;\" d=\"M 580 300 L 566.296875 386.523438 \"/>\n",
       "<path style=\"fill:none;stroke-width:1;stroke-linecap:butt;stroke-linejoin:miter;stroke:rgb(26.666667%,26.666667%,26.666667%);stroke-opacity:1;stroke-miterlimit:10;\" d=\"M 566.296875 386.523438 L 526.523438 464.578125 \"/>\n",
       "<path style=\"fill:none;stroke-width:1;stroke-linecap:butt;stroke-linejoin:miter;stroke:rgb(26.666667%,26.666667%,26.666667%);stroke-opacity:1;stroke-miterlimit:10;\" d=\"M 526.523438 464.578125 L 464.578125 526.523438 \"/>\n",
       "<path style=\"fill:none;stroke-width:1;stroke-linecap:butt;stroke-linejoin:miter;stroke:rgb(26.666667%,26.666667%,26.666667%);stroke-opacity:1;stroke-miterlimit:10;\" d=\"M 464.578125 526.523438 L 386.523438 566.296875 \"/>\n",
       "<path style=\"fill:none;stroke-width:1;stroke-linecap:butt;stroke-linejoin:miter;stroke:rgb(26.666667%,26.666667%,26.666667%);stroke-opacity:1;stroke-miterlimit:10;\" d=\"M 386.523438 566.296875 L 300 580 \"/>\n",
       "<path style=\"fill:none;stroke-width:1;stroke-linecap:butt;stroke-linejoin:miter;stroke:rgb(26.666667%,26.666667%,26.666667%);stroke-opacity:1;stroke-miterlimit:10;\" d=\"M 300 580 L 213.476562 566.296875 \"/>\n",
       "<path style=\"fill:none;stroke-width:1;stroke-linecap:butt;stroke-linejoin:miter;stroke:rgb(26.666667%,26.666667%,26.666667%);stroke-opacity:1;stroke-miterlimit:10;\" d=\"M 135.421875 526.523438 L 386.523438 33.703125 \"/>\n",
       "<path style=\"fill:none;stroke-width:1;stroke-linecap:butt;stroke-linejoin:miter;stroke:rgb(26.666667%,26.666667%,26.666667%);stroke-opacity:1;stroke-miterlimit:10;\" d=\"M 135.421875 526.523438 L 73.476562 464.578125 \"/>\n",
       "<path style=\"fill:none;stroke-width:1;stroke-linecap:butt;stroke-linejoin:miter;stroke:rgb(26.666667%,26.666667%,26.666667%);stroke-opacity:1;stroke-miterlimit:10;\" d=\"M 73.476562 464.578125 L 33.703125 386.523438 \"/>\n",
       "<path style=\"fill:none;stroke-width:1;stroke-linecap:butt;stroke-linejoin:miter;stroke:rgb(26.666667%,26.666667%,26.666667%);stroke-opacity:1;stroke-miterlimit:10;\" d=\"M 20 300 L 213.476562 33.703125 \"/>\n",
       "<path style=\"fill:none;stroke-width:1;stroke-linecap:butt;stroke-linejoin:miter;stroke:rgb(26.666667%,26.666667%,26.666667%);stroke-opacity:1;stroke-miterlimit:10;\" d=\"M 20 300 L 33.703125 213.476562 \"/>\n",
       "<path style=\"fill:none;stroke-width:1;stroke-linecap:butt;stroke-linejoin:miter;stroke:rgb(26.666667%,26.666667%,26.666667%);stroke-opacity:1;stroke-miterlimit:10;\" d=\"M 33.703125 213.476562 L 73.476562 135.421875 \"/>\n",
       "<path style=\"fill:none;stroke-width:1;stroke-linecap:butt;stroke-linejoin:miter;stroke:rgb(26.666667%,26.666667%,26.666667%);stroke-opacity:1;stroke-miterlimit:10;\" d=\"M 73.476562 135.421875 L 135.421875 73.476562 \"/>\n",
       "<path style=\"fill:none;stroke-width:1;stroke-linecap:butt;stroke-linejoin:miter;stroke:rgb(26.666667%,26.666667%,26.666667%);stroke-opacity:1;stroke-miterlimit:10;\" d=\"M 33.703125 386.523438 L 135.421875 73.476562 \"/>\n",
       "<path style=\"fill:none;stroke-width:1;stroke-linecap:butt;stroke-linejoin:miter;stroke:rgb(26.666667%,26.666667%,26.666667%);stroke-opacity:1;stroke-miterlimit:10;\" d=\"M 213.476562 33.703125 L 300 20 \"/>\n",
       "<path style=\"fill:none;stroke-width:1;stroke-linecap:butt;stroke-linejoin:miter;stroke:rgb(26.666667%,26.666667%,26.666667%);stroke-opacity:1;stroke-miterlimit:10;\" d=\"M 300 20 L 386.523438 33.703125 \"/>\n",
       "<path style=\"fill:none;stroke-width:1;stroke-linecap:butt;stroke-linejoin:miter;stroke:rgb(26.666667%,26.666667%,26.666667%);stroke-opacity:1;stroke-miterlimit:10;\" d=\"M 386.523438 33.703125 L 464.578125 73.476562 \"/>\n",
       "<path style=\"fill:none;stroke-width:1;stroke-linecap:butt;stroke-linejoin:miter;stroke:rgb(26.666667%,26.666667%,26.666667%);stroke-opacity:1;stroke-miterlimit:10;\" d=\"M 464.578125 73.476562 L 526.523438 135.421875 \"/>\n",
       "<path style=\"fill:none;stroke-width:1;stroke-linecap:butt;stroke-linejoin:miter;stroke:rgb(26.666667%,26.666667%,26.666667%);stroke-opacity:1;stroke-miterlimit:10;\" d=\"M 526.523438 135.421875 L 566.296875 213.476562 \"/>\n",
       "<path style=\"fill:none;stroke-width:1;stroke-linecap:butt;stroke-linejoin:miter;stroke:rgb(26.666667%,26.666667%,26.666667%);stroke-opacity:1;stroke-miterlimit:10;\" d=\"M 580 300 L 566.296875 213.476562 \"/>\n",
       "<path style=\"fill:none;stroke-width:1;stroke-linecap:butt;stroke-linejoin:miter;stroke:rgb(26.666667%,26.666667%,26.666667%);stroke-opacity:1;stroke-miterlimit:10;\" d=\"M 580 300 L 526.523438 464.578125 \"/>\n",
       "<path style=\"fill:none;stroke-width:1;stroke-linecap:butt;stroke-linejoin:miter;stroke:rgb(26.666667%,26.666667%,26.666667%);stroke-opacity:1;stroke-miterlimit:10;\" d=\"M 580 300 L 73.476562 135.421875 \"/>\n",
       "<path style=\"fill:none;stroke-width:1;stroke-linecap:butt;stroke-linejoin:miter;stroke:rgb(26.666667%,26.666667%,26.666667%);stroke-opacity:1;stroke-miterlimit:10;\" d=\"M 580 300 L 464.578125 526.523438 \"/>\n",
       "<path style=\"fill:none;stroke-width:1;stroke-linecap:butt;stroke-linejoin:miter;stroke:rgb(26.666667%,26.666667%,26.666667%);stroke-opacity:1;stroke-miterlimit:10;\" d=\"M 580 300 L 464.578125 73.476562 \"/>\n",
       "<path style=\"fill:none;stroke-width:1;stroke-linecap:butt;stroke-linejoin:miter;stroke:rgb(26.666667%,26.666667%,26.666667%);stroke-opacity:1;stroke-miterlimit:10;\" d=\"M 566.296875 386.523438 L 566.296875 213.476562 \"/>\n",
       "<path style=\"fill:none;stroke-width:1;stroke-linecap:butt;stroke-linejoin:miter;stroke:rgb(26.666667%,26.666667%,26.666667%);stroke-opacity:1;stroke-miterlimit:10;\" d=\"M 566.296875 386.523438 L 464.578125 526.523438 \"/>\n",
       "<path style=\"fill:none;stroke-width:1;stroke-linecap:butt;stroke-linejoin:miter;stroke:rgb(26.666667%,26.666667%,26.666667%);stroke-opacity:1;stroke-miterlimit:10;\" d=\"M 566.296875 386.523438 L 526.523438 135.421875 \"/>\n",
       "<path style=\"fill:none;stroke-width:1;stroke-linecap:butt;stroke-linejoin:miter;stroke:rgb(26.666667%,26.666667%,26.666667%);stroke-opacity:1;stroke-miterlimit:10;\" d=\"M 566.296875 386.523438 L 386.523438 566.296875 \"/>\n",
       "<path style=\"fill:none;stroke-width:1;stroke-linecap:butt;stroke-linejoin:miter;stroke:rgb(26.666667%,26.666667%,26.666667%);stroke-opacity:1;stroke-miterlimit:10;\" d=\"M 526.523438 464.578125 L 386.523438 566.296875 \"/>\n",
       "<path style=\"fill:none;stroke-width:1;stroke-linecap:butt;stroke-linejoin:miter;stroke:rgb(26.666667%,26.666667%,26.666667%);stroke-opacity:1;stroke-miterlimit:10;\" d=\"M 526.523438 464.578125 L 566.296875 213.476562 \"/>\n",
       "<path style=\"fill:none;stroke-width:1;stroke-linecap:butt;stroke-linejoin:miter;stroke:rgb(26.666667%,26.666667%,26.666667%);stroke-opacity:1;stroke-miterlimit:10;\" d=\"M 526.523438 464.578125 L 300 580 \"/>\n",
       "<path style=\"fill:none;stroke-width:1;stroke-linecap:butt;stroke-linejoin:miter;stroke:rgb(26.666667%,26.666667%,26.666667%);stroke-opacity:1;stroke-miterlimit:10;\" d=\"M 464.578125 526.523438 L 300 580 \"/>\n",
       "<path style=\"fill:none;stroke-width:1;stroke-linecap:butt;stroke-linejoin:miter;stroke:rgb(26.666667%,26.666667%,26.666667%);stroke-opacity:1;stroke-miterlimit:10;\" d=\"M 464.578125 526.523438 L 213.476562 566.296875 \"/>\n",
       "<path style=\"fill:none;stroke-width:1;stroke-linecap:butt;stroke-linejoin:miter;stroke:rgb(26.666667%,26.666667%,26.666667%);stroke-opacity:1;stroke-miterlimit:10;\" d=\"M 386.523438 566.296875 L 213.476562 566.296875 \"/>\n",
       "<path style=\"fill:none;stroke-width:1;stroke-linecap:butt;stroke-linejoin:miter;stroke:rgb(26.666667%,26.666667%,26.666667%);stroke-opacity:1;stroke-miterlimit:10;\" d=\"M 386.523438 566.296875 L 135.421875 526.523438 \"/>\n",
       "<path style=\"fill:none;stroke-width:1;stroke-linecap:butt;stroke-linejoin:miter;stroke:rgb(26.666667%,26.666667%,26.666667%);stroke-opacity:1;stroke-miterlimit:10;\" d=\"M 300 580 L 135.421875 526.523438 \"/>\n",
       "<path style=\"fill:none;stroke-width:1;stroke-linecap:butt;stroke-linejoin:miter;stroke:rgb(26.666667%,26.666667%,26.666667%);stroke-opacity:1;stroke-miterlimit:10;\" d=\"M 300 580 L 73.476562 464.578125 \"/>\n",
       "<path style=\"fill:none;stroke-width:1;stroke-linecap:butt;stroke-linejoin:miter;stroke:rgb(26.666667%,26.666667%,26.666667%);stroke-opacity:1;stroke-miterlimit:10;\" d=\"M 213.476562 566.296875 L 73.476562 464.578125 \"/>\n",
       "<path style=\"fill:none;stroke-width:1;stroke-linecap:butt;stroke-linejoin:miter;stroke:rgb(26.666667%,26.666667%,26.666667%);stroke-opacity:1;stroke-miterlimit:10;\" d=\"M 213.476562 566.296875 L 33.703125 386.523438 \"/>\n",
       "<path style=\"fill:none;stroke-width:1;stroke-linecap:butt;stroke-linejoin:miter;stroke:rgb(26.666667%,26.666667%,26.666667%);stroke-opacity:1;stroke-miterlimit:10;\" d=\"M 135.421875 526.523438 L 33.703125 386.523438 \"/>\n",
       "<path style=\"fill:none;stroke-width:1;stroke-linecap:butt;stroke-linejoin:miter;stroke:rgb(26.666667%,26.666667%,26.666667%);stroke-opacity:1;stroke-miterlimit:10;\" d=\"M 135.421875 526.523438 L 20 300 \"/>\n",
       "<path style=\"fill:none;stroke-width:1;stroke-linecap:butt;stroke-linejoin:miter;stroke:rgb(26.666667%,26.666667%,26.666667%);stroke-opacity:1;stroke-miterlimit:10;\" d=\"M 73.476562 464.578125 L 20 300 \"/>\n",
       "<path style=\"fill:none;stroke-width:1;stroke-linecap:butt;stroke-linejoin:miter;stroke:rgb(26.666667%,26.666667%,26.666667%);stroke-opacity:1;stroke-miterlimit:10;\" d=\"M 73.476562 464.578125 L 33.703125 213.476562 \"/>\n",
       "<path style=\"fill:none;stroke-width:1;stroke-linecap:butt;stroke-linejoin:miter;stroke:rgb(26.666667%,26.666667%,26.666667%);stroke-opacity:1;stroke-miterlimit:10;\" d=\"M 33.703125 386.523438 L 33.703125 213.476562 \"/>\n",
       "<path style=\"fill:none;stroke-width:1;stroke-linecap:butt;stroke-linejoin:miter;stroke:rgb(26.666667%,26.666667%,26.666667%);stroke-opacity:1;stroke-miterlimit:10;\" d=\"M 33.703125 386.523438 L 73.476562 135.421875 \"/>\n",
       "<path style=\"fill:none;stroke-width:1;stroke-linecap:butt;stroke-linejoin:miter;stroke:rgb(26.666667%,26.666667%,26.666667%);stroke-opacity:1;stroke-miterlimit:10;\" d=\"M 20 300 L 73.476562 135.421875 \"/>\n",
       "<path style=\"fill:none;stroke-width:1;stroke-linecap:butt;stroke-linejoin:miter;stroke:rgb(26.666667%,26.666667%,26.666667%);stroke-opacity:1;stroke-miterlimit:10;\" d=\"M 20 300 L 135.421875 73.476562 \"/>\n",
       "<path style=\"fill:none;stroke-width:1;stroke-linecap:butt;stroke-linejoin:miter;stroke:rgb(26.666667%,26.666667%,26.666667%);stroke-opacity:1;stroke-miterlimit:10;\" d=\"M 33.703125 213.476562 L 135.421875 73.476562 \"/>\n",
       "<path style=\"fill:none;stroke-width:1;stroke-linecap:butt;stroke-linejoin:miter;stroke:rgb(26.666667%,26.666667%,26.666667%);stroke-opacity:1;stroke-miterlimit:10;\" d=\"M 33.703125 213.476562 L 213.476562 33.703125 \"/>\n",
       "<path style=\"fill:none;stroke-width:1;stroke-linecap:butt;stroke-linejoin:miter;stroke:rgb(26.666667%,26.666667%,26.666667%);stroke-opacity:1;stroke-miterlimit:10;\" d=\"M 73.476562 135.421875 L 213.476562 33.703125 \"/>\n",
       "<path style=\"fill:none;stroke-width:1;stroke-linecap:butt;stroke-linejoin:miter;stroke:rgb(26.666667%,26.666667%,26.666667%);stroke-opacity:1;stroke-miterlimit:10;\" d=\"M 73.476562 135.421875 L 300 20 \"/>\n",
       "<path style=\"fill:none;stroke-width:1;stroke-linecap:butt;stroke-linejoin:miter;stroke:rgb(26.666667%,26.666667%,26.666667%);stroke-opacity:1;stroke-miterlimit:10;\" d=\"M 135.421875 73.476562 L 300 20 \"/>\n",
       "<path style=\"fill:none;stroke-width:1;stroke-linecap:butt;stroke-linejoin:miter;stroke:rgb(26.666667%,26.666667%,26.666667%);stroke-opacity:1;stroke-miterlimit:10;\" d=\"M 135.421875 73.476562 L 386.523438 33.703125 \"/>\n",
       "<path style=\"fill:none;stroke-width:1;stroke-linecap:butt;stroke-linejoin:miter;stroke:rgb(26.666667%,26.666667%,26.666667%);stroke-opacity:1;stroke-miterlimit:10;\" d=\"M 213.476562 33.703125 L 386.523438 33.703125 \"/>\n",
       "<path style=\"fill:none;stroke-width:1;stroke-linecap:butt;stroke-linejoin:miter;stroke:rgb(26.666667%,26.666667%,26.666667%);stroke-opacity:1;stroke-miterlimit:10;\" d=\"M 213.476562 33.703125 L 464.578125 73.476562 \"/>\n",
       "<path style=\"fill:none;stroke-width:1;stroke-linecap:butt;stroke-linejoin:miter;stroke:rgb(26.666667%,26.666667%,26.666667%);stroke-opacity:1;stroke-miterlimit:10;\" d=\"M 300 20 L 464.578125 73.476562 \"/>\n",
       "<path style=\"fill:none;stroke-width:1;stroke-linecap:butt;stroke-linejoin:miter;stroke:rgb(26.666667%,26.666667%,26.666667%);stroke-opacity:1;stroke-miterlimit:10;\" d=\"M 300 20 L 526.523438 135.421875 \"/>\n",
       "<path style=\"fill:none;stroke-width:1;stroke-linecap:butt;stroke-linejoin:miter;stroke:rgb(26.666667%,26.666667%,26.666667%);stroke-opacity:1;stroke-miterlimit:10;\" d=\"M 386.523438 33.703125 L 526.523438 135.421875 \"/>\n",
       "<path style=\"fill:none;stroke-width:1;stroke-linecap:butt;stroke-linejoin:miter;stroke:rgb(26.666667%,26.666667%,26.666667%);stroke-opacity:1;stroke-miterlimit:10;\" d=\"M 386.523438 33.703125 L 566.296875 213.476562 \"/>\n",
       "<path style=\"fill:none;stroke-width:1;stroke-linecap:butt;stroke-linejoin:miter;stroke:rgb(26.666667%,26.666667%,26.666667%);stroke-opacity:1;stroke-miterlimit:10;\" d=\"M 464.578125 73.476562 L 566.296875 213.476562 \"/>\n",
       "<path style=\"fill-rule:nonzero;fill:rgb(100%,0%,0%);fill-opacity:1;stroke-width:1;stroke-linecap:butt;stroke-linejoin:miter;stroke:rgb(0%,0%,0%);stroke-opacity:1;stroke-miterlimit:10;\" d=\"M 590 300 C 590 305.523438 585.523438 310 580 310 C 574.476562 310 570 305.523438 570 300 C 570 294.476562 574.476562 290 580 290 C 585.523438 290 590 294.476562 590 300 \"/>\n",
       "<path style=\"fill-rule:nonzero;fill:rgb(100%,0%,0%);fill-opacity:1;stroke-width:1;stroke-linecap:butt;stroke-linejoin:miter;stroke:rgb(0%,0%,0%);stroke-opacity:1;stroke-miterlimit:10;\" d=\"M 576.296875 386.523438 C 576.296875 392.046875 571.820312 396.523438 566.296875 396.523438 C 560.773438 396.523438 556.296875 392.046875 556.296875 386.523438 C 556.296875 381 560.773438 376.523438 566.296875 376.523438 C 571.820312 376.523438 576.296875 381 576.296875 386.523438 \"/>\n",
       "<path style=\"fill-rule:nonzero;fill:rgb(100%,0%,0%);fill-opacity:1;stroke-width:1;stroke-linecap:butt;stroke-linejoin:miter;stroke:rgb(0%,0%,0%);stroke-opacity:1;stroke-miterlimit:10;\" d=\"M 536.523438 464.578125 C 536.523438 470.101562 532.046875 474.578125 526.523438 474.578125 C 521 474.578125 516.523438 470.101562 516.523438 464.578125 C 516.523438 459.058594 521 454.578125 526.523438 454.578125 C 532.046875 454.578125 536.523438 459.058594 536.523438 464.578125 \"/>\n",
       "<path style=\"fill-rule:nonzero;fill:rgb(100%,0%,0%);fill-opacity:1;stroke-width:1;stroke-linecap:butt;stroke-linejoin:miter;stroke:rgb(0%,0%,0%);stroke-opacity:1;stroke-miterlimit:10;\" d=\"M 474.578125 526.523438 C 474.578125 532.046875 470.101562 536.523438 464.578125 536.523438 C 459.058594 536.523438 454.578125 532.046875 454.578125 526.523438 C 454.578125 521 459.058594 516.523438 464.578125 516.523438 C 470.101562 516.523438 474.578125 521 474.578125 526.523438 \"/>\n",
       "<path style=\"fill-rule:nonzero;fill:rgb(100%,0%,0%);fill-opacity:1;stroke-width:1;stroke-linecap:butt;stroke-linejoin:miter;stroke:rgb(0%,0%,0%);stroke-opacity:1;stroke-miterlimit:10;\" d=\"M 396.523438 566.296875 C 396.523438 571.820312 392.046875 576.296875 386.523438 576.296875 C 381 576.296875 376.523438 571.820312 376.523438 566.296875 C 376.523438 560.773438 381 556.296875 386.523438 556.296875 C 392.046875 556.296875 396.523438 560.773438 396.523438 566.296875 \"/>\n",
       "<path style=\"fill-rule:nonzero;fill:rgb(100%,0%,0%);fill-opacity:1;stroke-width:1;stroke-linecap:butt;stroke-linejoin:miter;stroke:rgb(0%,0%,0%);stroke-opacity:1;stroke-miterlimit:10;\" d=\"M 310 580 C 310 585.523438 305.523438 590 300 590 C 294.476562 590 290 585.523438 290 580 C 290 574.476562 294.476562 570 300 570 C 305.523438 570 310 574.476562 310 580 \"/>\n",
       "<path style=\"fill-rule:nonzero;fill:rgb(100%,0%,0%);fill-opacity:1;stroke-width:1;stroke-linecap:butt;stroke-linejoin:miter;stroke:rgb(0%,0%,0%);stroke-opacity:1;stroke-miterlimit:10;\" d=\"M 223.476562 566.296875 C 223.476562 571.820312 219 576.296875 213.476562 576.296875 C 207.953125 576.296875 203.476562 571.820312 203.476562 566.296875 C 203.476562 560.773438 207.953125 556.296875 213.476562 556.296875 C 219 556.296875 223.476562 560.773438 223.476562 566.296875 \"/>\n",
       "<path style=\"fill-rule:nonzero;fill:rgb(100%,0%,0%);fill-opacity:1;stroke-width:1;stroke-linecap:butt;stroke-linejoin:miter;stroke:rgb(0%,0%,0%);stroke-opacity:1;stroke-miterlimit:10;\" d=\"M 145.421875 526.523438 C 145.421875 532.046875 140.941406 536.523438 135.421875 536.523438 C 129.898438 536.523438 125.421875 532.046875 125.421875 526.523438 C 125.421875 521 129.898438 516.523438 135.421875 516.523438 C 140.941406 516.523438 145.421875 521 145.421875 526.523438 \"/>\n",
       "<path style=\"fill-rule:nonzero;fill:rgb(100%,0%,0%);fill-opacity:1;stroke-width:1;stroke-linecap:butt;stroke-linejoin:miter;stroke:rgb(0%,0%,0%);stroke-opacity:1;stroke-miterlimit:10;\" d=\"M 83.476562 464.578125 C 83.476562 470.101562 79 474.578125 73.476562 474.578125 C 67.953125 474.578125 63.476562 470.101562 63.476562 464.578125 C 63.476562 459.058594 67.953125 454.578125 73.476562 454.578125 C 79 454.578125 83.476562 459.058594 83.476562 464.578125 \"/>\n",
       "<path style=\"fill-rule:nonzero;fill:rgb(100%,0%,0%);fill-opacity:1;stroke-width:1;stroke-linecap:butt;stroke-linejoin:miter;stroke:rgb(0%,0%,0%);stroke-opacity:1;stroke-miterlimit:10;\" d=\"M 43.703125 386.523438 C 43.703125 392.046875 39.226562 396.523438 33.703125 396.523438 C 28.179688 396.523438 23.703125 392.046875 23.703125 386.523438 C 23.703125 381 28.179688 376.523438 33.703125 376.523438 C 39.226562 376.523438 43.703125 381 43.703125 386.523438 \"/>\n",
       "<path style=\"fill-rule:nonzero;fill:rgb(100%,0%,0%);fill-opacity:1;stroke-width:1;stroke-linecap:butt;stroke-linejoin:miter;stroke:rgb(0%,0%,0%);stroke-opacity:1;stroke-miterlimit:10;\" d=\"M 30 300 C 30 305.523438 25.523438 310 20 310 C 14.476562 310 10 305.523438 10 300 C 10 294.476562 14.476562 290 20 290 C 25.523438 290 30 294.476562 30 300 \"/>\n",
       "<path style=\"fill-rule:nonzero;fill:rgb(100%,0%,0%);fill-opacity:1;stroke-width:1;stroke-linecap:butt;stroke-linejoin:miter;stroke:rgb(0%,0%,0%);stroke-opacity:1;stroke-miterlimit:10;\" d=\"M 43.703125 213.476562 C 43.703125 219 39.226562 223.476562 33.703125 223.476562 C 28.179688 223.476562 23.703125 219 23.703125 213.476562 C 23.703125 207.953125 28.179688 203.476562 33.703125 203.476562 C 39.226562 203.476562 43.703125 207.953125 43.703125 213.476562 \"/>\n",
       "<path style=\"fill-rule:nonzero;fill:rgb(100%,0%,0%);fill-opacity:1;stroke-width:1;stroke-linecap:butt;stroke-linejoin:miter;stroke:rgb(0%,0%,0%);stroke-opacity:1;stroke-miterlimit:10;\" d=\"M 83.476562 135.421875 C 83.476562 140.941406 79 145.421875 73.476562 145.421875 C 67.953125 145.421875 63.476562 140.941406 63.476562 135.421875 C 63.476562 129.898438 67.953125 125.421875 73.476562 125.421875 C 79 125.421875 83.476562 129.898438 83.476562 135.421875 \"/>\n",
       "<path style=\"fill-rule:nonzero;fill:rgb(100%,0%,0%);fill-opacity:1;stroke-width:1;stroke-linecap:butt;stroke-linejoin:miter;stroke:rgb(0%,0%,0%);stroke-opacity:1;stroke-miterlimit:10;\" d=\"M 145.421875 73.476562 C 145.421875 79 140.941406 83.476562 135.421875 83.476562 C 129.898438 83.476562 125.421875 79 125.421875 73.476562 C 125.421875 67.953125 129.898438 63.476562 135.421875 63.476562 C 140.941406 63.476562 145.421875 67.953125 145.421875 73.476562 \"/>\n",
       "<path style=\"fill-rule:nonzero;fill:rgb(100%,0%,0%);fill-opacity:1;stroke-width:1;stroke-linecap:butt;stroke-linejoin:miter;stroke:rgb(0%,0%,0%);stroke-opacity:1;stroke-miterlimit:10;\" d=\"M 223.476562 33.703125 C 223.476562 39.226562 219 43.703125 213.476562 43.703125 C 207.953125 43.703125 203.476562 39.226562 203.476562 33.703125 C 203.476562 28.179688 207.953125 23.703125 213.476562 23.703125 C 219 23.703125 223.476562 28.179688 223.476562 33.703125 \"/>\n",
       "<path style=\"fill-rule:nonzero;fill:rgb(100%,0%,0%);fill-opacity:1;stroke-width:1;stroke-linecap:butt;stroke-linejoin:miter;stroke:rgb(0%,0%,0%);stroke-opacity:1;stroke-miterlimit:10;\" d=\"M 310 20 C 310 25.523438 305.523438 30 300 30 C 294.476562 30 290 25.523438 290 20 C 290 14.476562 294.476562 10 300 10 C 305.523438 10 310 14.476562 310 20 \"/>\n",
       "<path style=\"fill-rule:nonzero;fill:rgb(100%,0%,0%);fill-opacity:1;stroke-width:1;stroke-linecap:butt;stroke-linejoin:miter;stroke:rgb(0%,0%,0%);stroke-opacity:1;stroke-miterlimit:10;\" d=\"M 396.523438 33.703125 C 396.523438 39.226562 392.046875 43.703125 386.523438 43.703125 C 381 43.703125 376.523438 39.226562 376.523438 33.703125 C 376.523438 28.179688 381 23.703125 386.523438 23.703125 C 392.046875 23.703125 396.523438 28.179688 396.523438 33.703125 \"/>\n",
       "<path style=\"fill-rule:nonzero;fill:rgb(100%,0%,0%);fill-opacity:1;stroke-width:1;stroke-linecap:butt;stroke-linejoin:miter;stroke:rgb(0%,0%,0%);stroke-opacity:1;stroke-miterlimit:10;\" d=\"M 474.578125 73.476562 C 474.578125 79 470.101562 83.476562 464.578125 83.476562 C 459.058594 83.476562 454.578125 79 454.578125 73.476562 C 454.578125 67.953125 459.058594 63.476562 464.578125 63.476562 C 470.101562 63.476562 474.578125 67.953125 474.578125 73.476562 \"/>\n",
       "<path style=\"fill-rule:nonzero;fill:rgb(100%,0%,0%);fill-opacity:1;stroke-width:1;stroke-linecap:butt;stroke-linejoin:miter;stroke:rgb(0%,0%,0%);stroke-opacity:1;stroke-miterlimit:10;\" d=\"M 536.523438 135.421875 C 536.523438 140.941406 532.046875 145.421875 526.523438 145.421875 C 521 145.421875 516.523438 140.941406 516.523438 135.421875 C 516.523438 129.898438 521 125.421875 526.523438 125.421875 C 532.046875 125.421875 536.523438 129.898438 536.523438 135.421875 \"/>\n",
       "<path style=\"fill-rule:nonzero;fill:rgb(100%,0%,0%);fill-opacity:1;stroke-width:1;stroke-linecap:butt;stroke-linejoin:miter;stroke:rgb(0%,0%,0%);stroke-opacity:1;stroke-miterlimit:10;\" d=\"M 576.296875 213.476562 C 576.296875 219 571.820312 223.476562 566.296875 223.476562 C 560.773438 223.476562 556.296875 219 556.296875 213.476562 C 556.296875 207.953125 560.773438 203.476562 566.296875 203.476562 C 571.820312 203.476562 576.296875 207.953125 576.296875 213.476562 \"/>\n",
       "</g>\n",
       "</svg>\n"
      ],
      "text/plain": [
       "<igraph.drawing.Plot at 0x7fed34117240>"
      ]
     },
     "execution_count": 5,
     "metadata": {
      "image/svg+xml": {
       "isolated": true
      }
     },
     "output_type": "execute_result"
    }
   ],
   "source": [
    "g = ig.Graph.Watts_Strogatz(dim=1, size=20, nei=3, p=0.05)\n",
    "layout=g.layout_circle()\n",
    "layout2 = g.layout_fruchterman_reingold()\n",
    "ig.plot(g, layout = layout)"
   ]
  },
  {
   "cell_type": "markdown",
   "metadata": {},
   "source": [
    "**TODO: Write your observations here!**"
   ]
  }
 ],
 "metadata": {
  "anaconda-cloud": {},
  "kernelspec": {
   "display_name": "Python 3",
   "language": "python",
   "name": "python3"
  },
  "language_info": {
   "codemirror_mode": {
    "name": "ipython",
    "version": 3
   },
   "file_extension": ".py",
   "mimetype": "text/x-python",
   "name": "python",
   "nbconvert_exporter": "python",
   "pygments_lexer": "ipython3",
   "version": "3.4.3"
  }
 },
 "nbformat": 4,
 "nbformat_minor": 1
}
