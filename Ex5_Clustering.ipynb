{
 "cells": [
  {
   "cell_type": "markdown",
   "metadata": {},
   "source": [
    "# Social Computing - Summer 2019\n",
    "# Exercise 5 - Clustering\n",
    "Clustering is analyzing data structures (regarding this exercise, especially datasets and graphs) according to certain characteristics of interest and grouping the points whose attributes overlap. This procedure yields new disjoint groupings, the clusters the points belong to, which may reveal insightful information. In the following, we will take a look at two different clustering algorithms."
   ]
  },
  {
   "cell_type": "markdown",
   "metadata": {},
   "source": [
    "## Problem 5.1: k-Means Clustering\n",
    "\n",
    "In the first section of the exercise, you will work with the dataset *NetworkActivityData.csv* which documents the user's activity of an online social network. Each line in the file represents a feature vector and is associated with one of the users. The vectors contain an ID ('userXYZ') and the following four different activity types (features) of that user:\n",
    "* Number of posts\n",
    "* Number of comments\n",
    "* Number of likes (on posts and comments)\n",
    "* Number of friends\n",
    "\n",
    "By clustering the users according to all of the features, you can identify similar activity patterns among them. In practice, this can be helpful for research but also for advertising and polling firms. Your first task will therefore be to implement the k-means clustering you are already familiar with from the lecture.\n",
    "\n",
    "### k-Means Algorithm\n",
    "The algorithm's goal is to partition the data points (also referred to as _observations_) into k sets while minimizing the within-cluster sum of squares. The goal of the k-means clustering is to minimize the objective function\n",
    "$$\\sum_{k=1}^{K} \\sum_{\\{n|x_n \\in C_k \\}} \\|x_n - \\mu_k\\|^2$$\n",
    "\n",
    "such that $K$ is the number of clusters, $x_n$ is the $n$-th point that belongs to the $k$-th cluster, and $\\mu_k$ is the centroid (or _prototype_) of the $k$-th cluster.\n",
    "    \n",
    "The algorithm's implementation proceeds as follows:\n",
    "* Assign four random centroids (starting prototypes)\n",
    "* Assign data points (the users) to the nearest centroid\n",
    "* Recompute the centroid values - the new value of the $k$-th centroid is the average of the points currently assigned to that centroid\n",
    "* Repeat from point 3 until the centroids' values do not change anymore\n",
    "\n",
    "**Write a Python program that computes the k-means clustering for the given dataset with a k value of 4 by following the tasks below.** The output of your program should be a dictionary (or whatever data type works best for you) that assigns a cluster ID (0, 1, 2, 3) to every user in the input file. The first argument in that tuple should be the users's name and the second argument should be the centroid ID to which this user is associated to, e.g. ('user111', 3).<br>\n",
    "After the clustering with k=4 is implemented, run the code with the following starting prototypes for testing your solution: **{0: [9, 33, 29, 25], 1: [4, 44, 12, 41], 2: [10, 13, 44, 65], 3: [10, 44, 48, 70]}**\n",
    "\n",
    "**Notes:**\n",
    "* The return value should be the final centroid values that do not change anymore.\n",
    "* If you happen to come across any empty clusters in your implementation (e.g. if a clusters did not get assigned any data points), they need to be reinitialized in order to return all k clusters later. A common way to do this is using one or more random points far away from their centroid. In our case, it is sufficient to set an empty cluster to all zeros (a value that is located at the data's boundaries), which creates a similar effect. _For the future, keep in mind that this is not always a good idea because it depends on the specific underlying space!_"
   ]
  },
  {
   "cell_type": "code",
   "execution_count": 1,
   "metadata": {},
   "outputs": [],
   "source": [
    "import csv, random, queue, numpy as np, igraph as ig\n",
    "from scipy.spatial import distance"
   ]
  },
  {
   "cell_type": "markdown",
   "metadata": {},
   "source": [
    "### Task 1: Reading The Data\n",
    "\n",
    "The first thing you are supposed to do is reading in the data set (_NetworkActivityData.csv_). As mentioned above, the file's rows contain a social network user with their activity types (posts, comments, likes and friends). One possibility is to save the data as a dictionary, the user ID as a key and the list of activity types as its values.\n",
    "\n",
    "**Implement a function that reads in a .csv file given a certain path so you can call it later on the data set.**"
   ]
  },
  {
   "cell_type": "code",
   "execution_count": 2,
   "metadata": {},
   "outputs": [],
   "source": [
    "# Read the network activity data set into a dictionary with user IDs as keys\n",
    "def read_data_set(path):\n",
    "    observations_dict = {}\n",
    "    \n",
    "    # Open .csv file\n",
    "    f = open(path, \"r\")\n",
    "    \n",
    "    \n",
    "    # Put each row (data for each user) into dictionary of observations\n",
    "    for line in f:\n",
    "        atts = line.rstrip().split(',')\n",
    "        observations_dict[atts[0]] = [int(i) for i in atts[1:]]\n",
    "        \n",
    "    return observations_dict"
   ]
  },
  {
   "cell_type": "markdown",
   "metadata": {},
   "source": [
    "### Task 2: Starting Centroids\n",
    "In order to use k-means clustering, we need k starting centroids to begin with. There are different ways to do it, one of them is randomly assigning the initial values. For each dimension of the centroid, the random values should fall between the dimension's maximum and minimum value of all the points in the data set.<br>\n",
    "For example in our case, if the dimension \"number of comments\" has a maximum value of 49 and a minimum value of 0, the value assigned to the third component of one centroid should be randomly assigned between 0 and 49. The same for the other features and centroids, of course.\n",
    "\n",
    "**Implement a function that computes k random starting centroids, bounded within the minimum and maximum dimension of the input features.**"
   ]
  },
  {
   "cell_type": "code",
   "execution_count": 3,
   "metadata": {
    "scrolled": true
   },
   "outputs": [],
   "source": [
    "# Compute k random starting centroids\n",
    "import random\n",
    "def create_starting_centroids(observations, k):\n",
    "    # Initialize minimum/maximum with arbitrary observation entry\n",
    "    mins = next(iter(observations.values())).copy()\n",
    "    maxs = next(iter(observations.values())).copy()\n",
    "    \n",
    "    # Find minimum and maximum of observations in each dimension\n",
    "    for user in observations:\n",
    "        for i in range(len(observations[user])):\n",
    "            mins[i] = min(mins[i], observations[user][i])\n",
    "            maxs[i] = max(maxs[i], observations[user][i])\n",
    "            \n",
    "    # Create dictionary with four random centroids within the observed space\n",
    "    centroids = {}\n",
    "    for i in range(k):\n",
    "        centroids[i] = []\n",
    "        for dim in range(len(maxs)):\n",
    "            r = random.randint(mins[dim], maxs[dim])\n",
    "            centroids[i].append(r)\n",
    "            \n",
    "    return centroids"
   ]
  },
  {
   "cell_type": "markdown",
   "metadata": {},
   "source": [
    "### Task 3: Updating The Clusters\n",
    "The core functionality of the k-means algorithm is to assign each observation (user and their properties) to its new cluster and afterwards to recompute the centroid average. These two steps are repeated until the centroids do not change anymore, meaning that the clusters are finally set.\n",
    "\n",
    "Implement two functions, one that **updates the cluster affiliation for each observation by determining the closest centroid** and **another to update the centroid values by averaging their data points**, but only for one iteration in both cases."
   ]
  },
  {
   "cell_type": "code",
   "execution_count": 4,
   "metadata": {
    "scrolled": true
   },
   "outputs": [],
   "source": [
    "# Assign each of the data points to its closest centroid\n",
    "def update_observation_assignments(observations, centroids, k):\n",
    "    observation_centroids = {}\n",
    "    \n",
    "    c_values = list(centroids.values())\n",
    "    c_keys   = list(centroids.keys())\n",
    "    \n",
    "    # Create dictionary mapping each observation to a centroid index\n",
    "    for u_key in observations:\n",
    "        u_value = observations[u_key]\n",
    "        \n",
    "        # Get distance to all centroids for current observation\n",
    "        dist = distance.cdist([u_value], c_values) #array with distance to centroids\n",
    "        \n",
    "        # Assign centroid that has minimum L2/Euclidean distance\n",
    "        closest_c_key = c_keys[np.argmin(dist)]\n",
    "        observation_centroids[u_key] = closest_c_key\n",
    "\n",
    "    return observation_centroids\n",
    "\n",
    "# Create new centroid values for each cluster as the mean of its data points\n",
    "def update_centroid_values(observations, observation_centroids, k):    \n",
    "    obs_count = [0] * k\n",
    "    centroids = {}\n",
    "    values_dim = len(next(iter(observations.values())))\n",
    "    \n",
    "    # Initialize centroids\n",
    "    for c in range(k):\n",
    "        centroids[c] = np.zeros(values_dim)\n",
    "    \n",
    "    # Accumulate observations in each cluster\n",
    "    for u_key in observations:\n",
    "        user_cluster = observation_centroids[u_key]\n",
    "        obs_count[user_cluster] += 1       \n",
    "\n",
    "    # Get cluster mean\n",
    "    for u_key in observations:\n",
    "        user_cluster = observation_centroids[u_key]\n",
    "        u_value = np.array(observations[u_key])\n",
    "        u_value = u_value/obs_count[user_cluster]\n",
    "        centroids[user_cluster] = centroids[user_cluster] + u_value #elementwise sum and division\n",
    "        \n",
    "    return centroids"
   ]
  },
  {
   "cell_type": "markdown",
   "metadata": {},
   "source": [
    "### Task 4: k-Means Loop\n",
    "As a last step, k-means uses the functionality that was implemented in the tasks beforehand in a loop and terminates after a few iterations when the centroid values do not change anymore.\n",
    "\n",
    "**Implement k-means clustering by iteratively using the functions defined above until the centroids are set. Afterwards, run your implementation with k=4 using the given starting centroids {0: [9, 33, 29, 25], 1: [4, 44, 12, 41], 2: [10, 13, 44, 65], 3: [10, 44, 48, 70]} instead of the random initialization.**\n",
    "\n",
    "**Hint:** You can verfiy your solution's correctness by comparing your final cluster observations to the pre-defined function's output:<br>\n",
    "`from sklearn.cluster import KMeans`<br>\n",
    "`from numpy import genfromtxt`<br>\n",
    "<br>\n",
    "`observations = genfromtxt('NetworkActivityData.csv', delimiter=',')[:, 1 : 5]`<br>\n",
    "`centers = np.asarray([[9, 33, 29, 25], [4, 44, 12, 41], [10, 13, 44, 65], [10, 44, 48, 70]])`<br>\n",
    "`kmeans = KMeans(n_clusters=4, init=centers).fit(observations)`<br>\n",
    "`result = kmeans.predict(observations)`<br>\n",
    "`print(sum(result == 0), sum(result == 1), sum(result == 2), sum(result == 3))`\n",
    "    \n",
    "**Output the observation counts in each cluster. Finally, have a look at the results and describe the common properties of the four groups.** What information do we have on activity patterns for different groups and for different features? How much did they contribute in the social network? Don't write more than 5 sentences."
   ]
  },
  {
   "cell_type": "code",
   "execution_count": 5,
   "metadata": {},
   "outputs": [
    {
     "name": "stdout",
     "output_type": "stream",
     "text": [
      "[87, 212, 43, 8]\n",
      "Average of cluster  0 : [ 6.34482759 10.81609195 17.01149425 29.10344828]\n",
      "Average of cluster  1 : [1.04716981 2.47641509 7.41509434 9.61320755]\n",
      "Average of cluster  2 : [14.34883721 25.58139535 34.97674419 54.51162791]\n",
      "Average of cluster  3 : [25.    43.    59.375 84.375]\n",
      "--------\n",
      "Pre-defined function's output:\n",
      "87 212 43 8\n",
      "Average of cluster  0 : [ 6.34482759 10.81609195 17.01149425 29.10344828]\n",
      "Average of cluster  1 : [1.04716981 2.47641509 7.41509434 9.61320755]\n",
      "Average of cluster  2 : [14.34883721 25.58139535 34.97674419 54.51162791]\n",
      "Average of cluster  3 : [25.    43.    59.375 84.375]\n"
     ]
    },
    {
     "name": "stderr",
     "output_type": "stream",
     "text": [
      "/usr/local/lib/python3.4/dist-packages/sklearn/cluster/k_means_.py:971: RuntimeWarning: Explicit initial center position passed: performing only one init in k-means instead of n_init=10\n",
      "  return_n_iter=True)\n"
     ]
    }
   ],
   "source": [
    "def my_diff(centroids1, centroids2):\n",
    "    dim = len(centroids1)\n",
    "    diff = 0\n",
    "    for c in range(dim):\n",
    "        diff += abs(sum(centroids1[c] - centroids2[c]))\n",
    "    return diff\n",
    "\n",
    "# Implementation of k-means clustering\n",
    "def calculate_k_means_clustering(data_set_path, k):\n",
    "    observations = read_data_set(data_set_path)\n",
    "    \n",
    "    # centroids = create_starting_centroids(observations, k)\n",
    "    centroids = {0: [9, 33, 29, 25], 1: [4, 44, 12, 41], 2: [10, 13, 44, 65], 3: [10, 44, 48, 70]}\n",
    "    k = 4\n",
    "    \n",
    "    observation_centroids = update_observation_assignments(observations, centroids, k)\n",
    "    new_centroids = update_centroid_values(observations, observation_centroids, k)\n",
    "\n",
    "    # Loop until centroids do not change anymore\n",
    "    while True:\n",
    "        # Update cluster assignments and centroid values by calling the functions\n",
    "        observation_centroids = update_observation_assignments(observations, centroids, k)\n",
    "        new_centroids = update_centroid_values(observations, observation_centroids, k)\n",
    "        \n",
    "        if my_diff(centroids, new_centroids) < 1e-5:\n",
    "            break\n",
    "        centroids = new_centroids\n",
    "        \n",
    "    \n",
    "    #print('Final assignments:', observation_centroids)\n",
    "    \n",
    "    observation_count = [0] * k\n",
    "    # Count observations per cluster and output results\n",
    "    for u_key in observation_centroids:\n",
    "        user_cluster = observation_centroids[u_key]\n",
    "        observation_count[user_cluster] += 1\n",
    "    \n",
    "    print(observation_count)\n",
    "    \n",
    "    for i in range(0, k):\n",
    "        print('Average of cluster ', i, ':', new_centroids[i])\n",
    "\n",
    "\n",
    "# Run k-means clustering\n",
    "calculate_k_means_clustering('NetworkActivityData.csv', 4)\n",
    "\n",
    "\n",
    "\n",
    "print(\"--------\")\n",
    "print(\"Pre-defined function's output:\")\n",
    "\n",
    "from sklearn.cluster import KMeans\n",
    "from numpy import genfromtxt\n",
    "\n",
    "observations = genfromtxt('NetworkActivityData.csv', delimiter=',')[:, 1 : 5]\n",
    "centers = np.asarray([[9, 33, 29, 25], [4, 44, 12, 41], [10, 13, 44, 65], [10, 44, 48, 70]])\n",
    "kmeans = KMeans(n_clusters=4, init=centers).fit(observations)\n",
    "result = kmeans.predict(observations)\n",
    "print(sum(result == 0), sum(result == 1), sum(result == 2), sum(result == 3))\n",
    "for i in range(4):\n",
    "        print('Average of cluster ', i, ':', kmeans.cluster_centers_[i])"
   ]
  },
  {
   "cell_type": "markdown",
   "metadata": {},
   "source": [
    "## Problem 5.2: Girvan-Newman Clustering \n",
    "In this section of the exercise, you will look at another clustering method from the lecture, the Girvan-Newman algorithm. It is an efficient algorithm for computing graph clustering. Your task will be to implement it.\n",
    "\n",
    "### Girvan-Newman Algorithm\n",
    "The central goal of the algorithm is to remove edges according to edge betweenness until the best clustering is obtained, based on modularity as an optimality criterion. You already know that a large betweenness value (for a node) indicates that the corresponding edge is a bridge between two communities in the graph. Cutting that edge means isolating these and yielding separate clusters. The modularity is given by the following formula:<br>\n",
    "$$ Q = \\sum_{i} (e_{ii} - a_i^2) $$\n",
    "with $e_{ii}$ being the number of edges that connect nodes within the $i$-th cluster, and $a_i$ being the fraction of edges that connect nodes from outside to nodes of the $i$-th cluster.\n",
    "\n",
    "The algorithm's implementation proceeds as follows:\n",
    "* Calculate the edge betweenness for all edges in the graph\n",
    "* Remove the edge with highest betweenness\n",
    "* Calculate (and update) the modularity for the resulting clustering\n",
    "* Repeat steps 1 to 3 until there are no edges left\n",
    "\n",
    "**Write a Python program that computes the optimal graph clustering for the Krackhardt Kite graph by completing the tasks below.** The program's input is the imported Krackhardt Kite as an igraph Graph object. The output should be a tuple of arguments, the value of the optimal modularity value and the corresponding Graph object representing the best clustering. You do _not_ have to calculate the edge betweenness yourself, you can use igraph's built-in function. Nevertheless, you are free to do it as an optional task (see below).\n",
    "\n",
    "### Task 1: Modularity\n",
    "In order to compare different clusterings later, the first thing to do is **implementing a function for the modularity calculation** by means of the formula given above. The idea is, for each cluster $i$, to calulcate the fraction of edges within the cluster and the fraction of edges that connects to the $i$-th cluster from outside it.\n",
    "\n",
    "**Notes:**\n",
    "* It may be helpful to look at the lecture's slides on the topic again for understanding what the formula stands for.\n",
    "* You are free to implement everything on your own (as long as the result is correct), but a possible way to solve it is by working with dictionaries of the original and current graph's degrees.\n",
    "* It is useful to add an attribute 'name' to the original graph's nodes in order to preserve the indices as they are reset when creating subgraphs."
   ]
  },
  {
   "cell_type": "code",
   "execution_count": 6,
   "metadata": {},
   "outputs": [],
   "source": [
    "# Returns a dictionary that maps each node to its degree\n",
    "def calculate_node_degrees(g):\n",
    "    deg_dict = {}\n",
    "    \n",
    "    # Map calculcate degree centrality\n",
    "    for v in g.vs:\n",
    "        deg_dict[v.index] = g.degree(v)\n",
    "    return deg_dict\n",
    "\n",
    "\n",
    "# Calculates the modularity of graph g using the original and current degree mappings\n",
    "def calculate_modularity(g, orig_deg_dict, num_edges):\n",
    "    Q = 0\n",
    "    components = g.components()\n",
    "    deg_dict = calculate_node_degrees(g)\n",
    "    # Loop over clusters and count edges\n",
    "    for i in range(len(components)):\n",
    "        subgraph = components.subgraph(i) # cluster\n",
    "        e = 0 # Fraction of edges within cluster\n",
    "        a = 0 # Fraction of edges between in-cluster nodes and nodes outside\n",
    "        \n",
    "        for v in subgraph.vs:\n",
    "            eii = 0.5*deg_dict[v[\"orig_id\"]]\n",
    "            e += (1/num_edges)*eii\n",
    "            ai = (1/num_edges)*(orig_deg_dict[v[\"orig_id\"]] - eii)\n",
    "            a += ai*ai\n",
    "        e /= num_edges\n",
    "        a /= num_edges\n",
    "        Q += (e-a)\n",
    "    \n",
    "    return Q"
   ]
  },
  {
   "cell_type": "markdown",
   "metadata": {},
   "source": [
    "### Task 2: Girvan-Newman Loop\n",
    "The next step is to implement the core functionality. Determine the **betweenness values for all edges** in the current graph first and remove the one with the highest betweenness value to get a meaningful clustering. Additionally, calculate the **graph's modularity value using the function defined above and keep track of the largest one**. This is repeated until no edges are left anymore. The final output is the graph with the best clustering and the corresponding modularity value.\n",
    "\n",
    "In order to test your implementation, compare your results to the built-in functions' solution. The  function `community_edge_betweenness()` returns a dendrogram whose clustering (obtained by using `as_clustering()` on it) you can plot. If you call a graph's `modularity()` function with that clustering, you can check the optimal modularity value."
   ]
  },
  {
   "cell_type": "code",
   "execution_count": 7,
   "metadata": {
    "scrolled": false
   },
   "outputs": [
    {
     "name": "stdout",
     "output_type": "stream",
     "text": [
      "Original Graph\n",
      " IGRAPH U--- 10 18 --\n",
      "+ edges:\n",
      " 0 --  1  2  3  5          4 --  1  3  6             8 --  7  9\n",
      " 1 --  0  3  4  6          5 --  0  2  3  6  7       9 --  8\n",
      " 2 --  0  3  5             6 --  1  3  4  5  7\n",
      " 3 --  0  1  2  4  5  6    7 --  5  6  8\n",
      "\n",
      "Largest modularity value:  0.05155555555555554\n",
      "\n",
      "Clustered Graph\n",
      " IGRAPH U--- 10 15 --\n",
      "+ attr: orig_id (v)\n",
      "+ edges:\n",
      " 0 --  1  2  3  5          4 --  1  3  6             8 --  9\n",
      " 1 --  0  3  4  6          5 --  0  2  3  6          9 --  8\n",
      " 2 --  0  3  5             6 --  1  3  4  5\n",
      " 3 --  0  1  2  4  5  6    7 --\n"
     ]
    },
    {
     "data": {
      "image/svg+xml": [
       "<?xml version=\"1.0\" encoding=\"UTF-8\"?>\n",
       "<svg xmlns=\"http://www.w3.org/2000/svg\" xmlns:xlink=\"http://www.w3.org/1999/xlink\" width=\"600pt\" height=\"600pt\" viewBox=\"0 0 600 600\" version=\"1.1\">\n",
       "<g id=\"surface2\">\n",
       "<rect x=\"0\" y=\"0\" width=\"600\" height=\"600\" style=\"fill:rgb(100%,100%,100%);fill-opacity:1;stroke:none;\"/>\n",
       "<path style=\"fill:none;stroke-width:1;stroke-linecap:butt;stroke-linejoin:miter;stroke:rgb(26.666667%,26.666667%,26.666667%);stroke-opacity:1;stroke-miterlimit:10;\" d=\"M 202.371094 580 L 397.9375 424.265625 \"/>\n",
       "<path style=\"fill:none;stroke-width:1;stroke-linecap:butt;stroke-linejoin:miter;stroke:rgb(26.666667%,26.666667%,26.666667%);stroke-opacity:1;stroke-miterlimit:10;\" d=\"M 202.371094 580 L 64.71875 520.828125 \"/>\n",
       "<path style=\"fill:none;stroke-width:1;stroke-linecap:butt;stroke-linejoin:miter;stroke:rgb(26.666667%,26.666667%,26.666667%);stroke-opacity:1;stroke-miterlimit:10;\" d=\"M 202.371094 580 L 306.195312 509.40625 \"/>\n",
       "<path style=\"fill:none;stroke-width:1;stroke-linecap:butt;stroke-linejoin:miter;stroke:rgb(26.666667%,26.666667%,26.666667%);stroke-opacity:1;stroke-miterlimit:10;\" d=\"M 202.371094 580 L 194.023438 448.996094 \"/>\n",
       "<path style=\"fill:none;stroke-width:1;stroke-linecap:butt;stroke-linejoin:miter;stroke:rgb(26.666667%,26.666667%,26.666667%);stroke-opacity:1;stroke-miterlimit:10;\" d=\"M 397.9375 424.265625 L 306.195312 509.40625 \"/>\n",
       "<path style=\"fill:none;stroke-width:1;stroke-linecap:butt;stroke-linejoin:miter;stroke:rgb(26.666667%,26.666667%,26.666667%);stroke-opacity:1;stroke-miterlimit:10;\" d=\"M 397.9375 424.265625 L 542.425781 466.136719 \"/>\n",
       "<path style=\"fill:none;stroke-width:1;stroke-linecap:butt;stroke-linejoin:miter;stroke:rgb(26.666667%,26.666667%,26.666667%);stroke-opacity:1;stroke-miterlimit:10;\" d=\"M 397.9375 424.265625 L 425.585938 554.144531 \"/>\n",
       "<path style=\"fill:none;stroke-width:1;stroke-linecap:butt;stroke-linejoin:miter;stroke:rgb(26.666667%,26.666667%,26.666667%);stroke-opacity:1;stroke-miterlimit:10;\" d=\"M 64.71875 520.828125 L 306.195312 509.40625 \"/>\n",
       "<path style=\"fill:none;stroke-width:1;stroke-linecap:butt;stroke-linejoin:miter;stroke:rgb(26.666667%,26.666667%,26.666667%);stroke-opacity:1;stroke-miterlimit:10;\" d=\"M 64.71875 520.828125 L 194.023438 448.996094 \"/>\n",
       "<path style=\"fill:none;stroke-width:1;stroke-linecap:butt;stroke-linejoin:miter;stroke:rgb(26.666667%,26.666667%,26.666667%);stroke-opacity:1;stroke-miterlimit:10;\" d=\"M 306.195312 509.40625 L 542.425781 466.136719 \"/>\n",
       "<path style=\"fill:none;stroke-width:1;stroke-linecap:butt;stroke-linejoin:miter;stroke:rgb(26.666667%,26.666667%,26.666667%);stroke-opacity:1;stroke-miterlimit:10;\" d=\"M 306.195312 509.40625 L 194.023438 448.996094 \"/>\n",
       "<path style=\"fill:none;stroke-width:1;stroke-linecap:butt;stroke-linejoin:miter;stroke:rgb(26.666667%,26.666667%,26.666667%);stroke-opacity:1;stroke-miterlimit:10;\" d=\"M 306.195312 509.40625 L 425.585938 554.144531 \"/>\n",
       "<path style=\"fill:none;stroke-width:1;stroke-linecap:butt;stroke-linejoin:miter;stroke:rgb(26.666667%,26.666667%,26.666667%);stroke-opacity:1;stroke-miterlimit:10;\" d=\"M 542.425781 466.136719 L 425.585938 554.144531 \"/>\n",
       "<path style=\"fill:none;stroke-width:1;stroke-linecap:butt;stroke-linejoin:miter;stroke:rgb(26.666667%,26.666667%,26.666667%);stroke-opacity:1;stroke-miterlimit:10;\" d=\"M 194.023438 448.996094 L 425.585938 554.144531 \"/>\n",
       "<path style=\"fill:none;stroke-width:1;stroke-linecap:butt;stroke-linejoin:miter;stroke:rgb(26.666667%,26.666667%,26.666667%);stroke-opacity:1;stroke-miterlimit:10;\" d=\"M 165.875 20 L 20 86.292969 \"/>\n",
       "<path style=\"fill-rule:nonzero;fill:rgb(100%,0%,0%);fill-opacity:1;stroke-width:1;stroke-linecap:butt;stroke-linejoin:miter;stroke:rgb(0%,0%,0%);stroke-opacity:1;stroke-miterlimit:10;\" d=\"M 212.371094 580 C 212.371094 585.523438 207.894531 590 202.371094 590 C 196.847656 590 192.371094 585.523438 192.371094 580 C 192.371094 574.476562 196.847656 570 202.371094 570 C 207.894531 570 212.371094 574.476562 212.371094 580 \"/>\n",
       "<path style=\"fill-rule:nonzero;fill:rgb(100%,0%,0%);fill-opacity:1;stroke-width:1;stroke-linecap:butt;stroke-linejoin:miter;stroke:rgb(0%,0%,0%);stroke-opacity:1;stroke-miterlimit:10;\" d=\"M 407.9375 424.265625 C 407.9375 429.789062 403.460938 434.265625 397.9375 434.265625 C 392.414062 434.265625 387.9375 429.789062 387.9375 424.265625 C 387.9375 418.742188 392.414062 414.265625 397.9375 414.265625 C 403.460938 414.265625 407.9375 418.742188 407.9375 424.265625 \"/>\n",
       "<path style=\"fill-rule:nonzero;fill:rgb(100%,0%,0%);fill-opacity:1;stroke-width:1;stroke-linecap:butt;stroke-linejoin:miter;stroke:rgb(0%,0%,0%);stroke-opacity:1;stroke-miterlimit:10;\" d=\"M 74.71875 520.828125 C 74.71875 526.347656 70.242188 530.828125 64.71875 530.828125 C 59.195312 530.828125 54.71875 526.347656 54.71875 520.828125 C 54.71875 515.304688 59.195312 510.828125 64.71875 510.828125 C 70.242188 510.828125 74.71875 515.304688 74.71875 520.828125 \"/>\n",
       "<path style=\"fill-rule:nonzero;fill:rgb(100%,0%,0%);fill-opacity:1;stroke-width:1;stroke-linecap:butt;stroke-linejoin:miter;stroke:rgb(0%,0%,0%);stroke-opacity:1;stroke-miterlimit:10;\" d=\"M 316.195312 509.40625 C 316.195312 514.929688 311.71875 519.40625 306.195312 519.40625 C 300.671875 519.40625 296.195312 514.929688 296.195312 509.40625 C 296.195312 503.882812 300.671875 499.40625 306.195312 499.40625 C 311.71875 499.40625 316.195312 503.882812 316.195312 509.40625 \"/>\n",
       "<path style=\"fill-rule:nonzero;fill:rgb(100%,0%,0%);fill-opacity:1;stroke-width:1;stroke-linecap:butt;stroke-linejoin:miter;stroke:rgb(0%,0%,0%);stroke-opacity:1;stroke-miterlimit:10;\" d=\"M 552.425781 466.136719 C 552.425781 471.660156 547.949219 476.136719 542.425781 476.136719 C 536.902344 476.136719 532.425781 471.660156 532.425781 466.136719 C 532.425781 460.613281 536.902344 456.136719 542.425781 456.136719 C 547.949219 456.136719 552.425781 460.613281 552.425781 466.136719 \"/>\n",
       "<path style=\"fill-rule:nonzero;fill:rgb(100%,0%,0%);fill-opacity:1;stroke-width:1;stroke-linecap:butt;stroke-linejoin:miter;stroke:rgb(0%,0%,0%);stroke-opacity:1;stroke-miterlimit:10;\" d=\"M 204.023438 448.996094 C 204.023438 454.519531 199.546875 458.996094 194.023438 458.996094 C 188.5 458.996094 184.023438 454.519531 184.023438 448.996094 C 184.023438 443.476562 188.5 438.996094 194.023438 438.996094 C 199.546875 438.996094 204.023438 443.476562 204.023438 448.996094 \"/>\n",
       "<path style=\"fill-rule:nonzero;fill:rgb(100%,0%,0%);fill-opacity:1;stroke-width:1;stroke-linecap:butt;stroke-linejoin:miter;stroke:rgb(0%,0%,0%);stroke-opacity:1;stroke-miterlimit:10;\" d=\"M 435.585938 554.144531 C 435.585938 559.664062 431.105469 564.144531 425.585938 564.144531 C 420.0625 564.144531 415.585938 559.664062 415.585938 554.144531 C 415.585938 548.621094 420.0625 544.144531 425.585938 544.144531 C 431.105469 544.144531 435.585938 548.621094 435.585938 554.144531 \"/>\n",
       "<path style=\"fill-rule:nonzero;fill:rgb(100%,0%,0%);fill-opacity:1;stroke-width:1;stroke-linecap:butt;stroke-linejoin:miter;stroke:rgb(0%,0%,0%);stroke-opacity:1;stroke-miterlimit:10;\" d=\"M 590 71.167969 C 590 76.691406 585.523438 81.167969 580 81.167969 C 574.476562 81.167969 570 76.691406 570 71.167969 C 570 65.644531 574.476562 61.167969 580 61.167969 C 585.523438 61.167969 590 65.644531 590 71.167969 \"/>\n",
       "<path style=\"fill-rule:nonzero;fill:rgb(100%,0%,0%);fill-opacity:1;stroke-width:1;stroke-linecap:butt;stroke-linejoin:miter;stroke:rgb(0%,0%,0%);stroke-opacity:1;stroke-miterlimit:10;\" d=\"M 175.875 20 C 175.875 25.523438 171.398438 30 165.875 30 C 160.351562 30 155.875 25.523438 155.875 20 C 155.875 14.476562 160.351562 10 165.875 10 C 171.398438 10 175.875 14.476562 175.875 20 \"/>\n",
       "<path style=\"fill-rule:nonzero;fill:rgb(100%,0%,0%);fill-opacity:1;stroke-width:1;stroke-linecap:butt;stroke-linejoin:miter;stroke:rgb(0%,0%,0%);stroke-opacity:1;stroke-miterlimit:10;\" d=\"M 30 86.292969 C 30 91.8125 25.523438 96.292969 20 96.292969 C 14.476562 96.292969 10 91.8125 10 86.292969 C 10 80.769531 14.476562 76.292969 20 76.292969 C 25.523438 76.292969 30 80.769531 30 86.292969 \"/>\n",
       "</g>\n",
       "</svg>\n"
      ],
      "text/plain": [
       "<igraph.drawing.Plot at 0x7fcfb67cd208>"
      ]
     },
     "execution_count": 7,
     "metadata": {
      "image/svg+xml": {
       "isolated": true
      }
     },
     "output_type": "execute_result"
    }
   ],
   "source": [
    "def my_argmax(lst):\n",
    "    idx = lambda i: lst[i]\n",
    "    return max(range(len(lst)), key=idx)\n",
    "    \n",
    "# Implementation Girvan-Newman clustering\n",
    "def calculate_girvan_newman_clustering(g):\n",
    "    num_edges = g.ecount();\n",
    "    largest_Q = 0.0\n",
    "\n",
    "    final_clustering = None\n",
    "    orig_deg = calculate_node_degrees(g)\n",
    "    \n",
    "    # Preserving original indices as node attributes (for later modularity computation)\n",
    "    for v in g.vs:\n",
    "        v[\"orig_id\"] = v.index\n",
    "        \n",
    "    # Remove all edges according to their modularity until none are left\n",
    "    while num_edges > 0:\n",
    "        # Compute modularity for remaining edges\n",
    "        Q = calculate_modularity(g, orig_deg, num_edges)\n",
    "        # print(\"current num_edges\", num_edges)\n",
    "        # print(\"current modularity\", Q)\n",
    "        qq = g.modularity(g.components());\n",
    "        \n",
    "        if Q > largest_Q:\n",
    "            # Update largest modularity value and copy the corresponding graph\n",
    "            largest_Q = Q\n",
    "            final_clustering = g.copy()\n",
    "        \n",
    "        # Compute betweenness for each edge and get highest index\n",
    "        bet = g.edge_betweenness(directed=False)\n",
    "        argmax_bet = my_argmax(bet)\n",
    "        #print(\"removed edge:\", g.es[argmax_bet].source, g.es[argmax_bet].target)\n",
    "\n",
    "        # Delete edge with highest index\n",
    "        g.delete_edges(argmax_bet)\n",
    "        num_edges -= 1\n",
    "        \n",
    "    return final_clustering, largest_Q\n",
    "\n",
    "\n",
    "# Import the Kite\n",
    "g = ig.Graph.Famous('Krackhardt_Kite')\n",
    "print('Original Graph\\n', g)\n",
    "\n",
    "# Compute clustering and largest modularity value\n",
    "graph_clustering, largest_mod = calculate_girvan_newman_clustering(g)\n",
    "print('\\nLargest modularity value: ', largest_mod)\n",
    "print('\\nClustered Graph\\n', graph_clustering)\n",
    "\n",
    "# Plot the clustered graph\n",
    "ig.plot(graph_clustering)"
   ]
  },
  {
   "cell_type": "code",
   "execution_count": 8,
   "metadata": {
    "scrolled": false
   },
   "outputs": [
    {
     "name": "stdout",
     "output_type": "stream",
     "text": [
      "IGRAPH U--- 10 15 --\n",
      "+ attr: orig_id (v)\n",
      "+ edges:\n",
      " 0 --  1  2  3  5          4 --  1  3  6             8 --  9\n",
      " 1 --  0  3  4  6          5 --  0  2  3  6          9 --  8\n",
      " 2 --  0  3  5             6 --  1  3  4  5\n",
      " 3 --  0  1  2  4  5  6    7 --\n",
      "0.05155555555555554\n"
     ]
    },
    {
     "data": {
      "image/svg+xml": [
       "<?xml version=\"1.0\" encoding=\"UTF-8\"?>\n",
       "<svg xmlns=\"http://www.w3.org/2000/svg\" xmlns:xlink=\"http://www.w3.org/1999/xlink\" width=\"600pt\" height=\"600pt\" viewBox=\"0 0 600 600\" version=\"1.1\">\n",
       "<defs>\n",
       "<g>\n",
       "<symbol overflow=\"visible\" id=\"glyph0-0\">\n",
       "<path style=\"stroke:none;\" d=\"M 0.5 1.765625 L 0.5 -7.046875 L 5.5 -7.046875 L 5.5 1.765625 Z M 1.0625 1.21875 L 4.9375 1.21875 L 4.9375 -6.484375 L 1.0625 -6.484375 Z M 1.0625 1.21875 \"/>\n",
       "</symbol>\n",
       "<symbol overflow=\"visible\" id=\"glyph0-1\">\n",
       "<path style=\"stroke:none;\" d=\"M 3.171875 -6.640625 C 2.671875 -6.640625 2.289062 -6.390625 2.03125 -5.890625 C 1.78125 -5.390625 1.65625 -4.640625 1.65625 -3.640625 C 1.65625 -2.640625 1.78125 -1.890625 2.03125 -1.390625 C 2.289062 -0.890625 2.671875 -0.640625 3.171875 -0.640625 C 3.691406 -0.640625 4.078125 -0.890625 4.328125 -1.390625 C 4.585938 -1.890625 4.71875 -2.640625 4.71875 -3.640625 C 4.71875 -4.640625 4.585938 -5.390625 4.328125 -5.890625 C 4.078125 -6.390625 3.691406 -6.640625 3.171875 -6.640625 Z M 3.171875 -7.421875 C 3.992188 -7.421875 4.617188 -7.097656 5.046875 -6.453125 C 5.484375 -5.804688 5.703125 -4.867188 5.703125 -3.640625 C 5.703125 -2.410156 5.484375 -1.472656 5.046875 -0.828125 C 4.617188 -0.179688 3.992188 0.140625 3.171875 0.140625 C 2.359375 0.140625 1.734375 -0.179688 1.296875 -0.828125 C 0.867188 -1.472656 0.65625 -2.410156 0.65625 -3.640625 C 0.65625 -4.867188 0.867188 -5.804688 1.296875 -6.453125 C 1.734375 -7.097656 2.359375 -7.421875 3.171875 -7.421875 Z M 3.171875 -7.421875 \"/>\n",
       "</symbol>\n",
       "<symbol overflow=\"visible\" id=\"glyph0-2\">\n",
       "<path style=\"stroke:none;\" d=\"M 1.234375 -0.828125 L 2.859375 -0.828125 L 2.859375 -6.390625 L 1.09375 -6.046875 L 1.09375 -6.9375 L 2.84375 -7.296875 L 3.828125 -7.296875 L 3.828125 -0.828125 L 5.4375 -0.828125 L 5.4375 0 L 1.234375 0 Z M 1.234375 -0.828125 \"/>\n",
       "</symbol>\n",
       "<symbol overflow=\"visible\" id=\"glyph0-3\">\n",
       "<path style=\"stroke:none;\" d=\"M 1.921875 -0.828125 L 5.359375 -0.828125 L 5.359375 0 L 0.734375 0 L 0.734375 -0.828125 C 1.109375 -1.210938 1.617188 -1.734375 2.265625 -2.390625 C 2.910156 -3.046875 3.316406 -3.46875 3.484375 -3.65625 C 3.796875 -4.007812 4.015625 -4.304688 4.140625 -4.546875 C 4.265625 -4.796875 4.328125 -5.039062 4.328125 -5.28125 C 4.328125 -5.664062 4.191406 -5.976562 3.921875 -6.21875 C 3.648438 -6.46875 3.296875 -6.59375 2.859375 -6.59375 C 2.546875 -6.59375 2.21875 -6.535156 1.875 -6.421875 C 1.539062 -6.316406 1.175781 -6.15625 0.78125 -5.9375 L 0.78125 -6.9375 C 1.175781 -7.09375 1.546875 -7.210938 1.890625 -7.296875 C 2.234375 -7.378906 2.550781 -7.421875 2.84375 -7.421875 C 3.59375 -7.421875 4.191406 -7.234375 4.640625 -6.859375 C 5.097656 -6.484375 5.328125 -5.976562 5.328125 -5.34375 C 5.328125 -5.039062 5.269531 -4.753906 5.15625 -4.484375 C 5.039062 -4.222656 4.835938 -3.910156 4.546875 -3.546875 C 4.460938 -3.453125 4.203125 -3.175781 3.765625 -2.71875 C 3.328125 -2.269531 2.710938 -1.640625 1.921875 -0.828125 Z M 1.921875 -0.828125 \"/>\n",
       "</symbol>\n",
       "<symbol overflow=\"visible\" id=\"glyph0-4\">\n",
       "<path style=\"stroke:none;\" d=\"M 4.0625 -3.9375 C 4.53125 -3.832031 4.894531 -3.617188 5.15625 -3.296875 C 5.425781 -2.984375 5.5625 -2.59375 5.5625 -2.125 C 5.5625 -1.40625 5.3125 -0.847656 4.8125 -0.453125 C 4.320312 -0.0546875 3.617188 0.140625 2.703125 0.140625 C 2.398438 0.140625 2.085938 0.109375 1.765625 0.046875 C 1.441406 -0.015625 1.109375 -0.101562 0.765625 -0.21875 L 0.765625 -1.171875 C 1.035156 -1.015625 1.332031 -0.894531 1.65625 -0.8125 C 1.988281 -0.726562 2.332031 -0.6875 2.6875 -0.6875 C 3.300781 -0.6875 3.769531 -0.804688 4.09375 -1.046875 C 4.414062 -1.296875 4.578125 -1.65625 4.578125 -2.125 C 4.578125 -2.550781 4.425781 -2.882812 4.125 -3.125 C 3.820312 -3.363281 3.40625 -3.484375 2.875 -3.484375 L 2.015625 -3.484375 L 2.015625 -4.296875 L 2.90625 -4.296875 C 3.394531 -4.296875 3.765625 -4.394531 4.015625 -4.59375 C 4.273438 -4.789062 4.40625 -5.070312 4.40625 -5.4375 C 4.40625 -5.800781 4.269531 -6.082031 4 -6.28125 C 3.738281 -6.488281 3.363281 -6.59375 2.875 -6.59375 C 2.601562 -6.59375 2.3125 -6.5625 2 -6.5 C 1.6875 -6.445312 1.347656 -6.359375 0.984375 -6.234375 L 0.984375 -7.109375 C 1.359375 -7.210938 1.707031 -7.289062 2.03125 -7.34375 C 2.363281 -7.394531 2.671875 -7.421875 2.953125 -7.421875 C 3.703125 -7.421875 4.296875 -7.25 4.734375 -6.90625 C 5.171875 -6.570312 5.390625 -6.113281 5.390625 -5.53125 C 5.390625 -5.125 5.273438 -4.78125 5.046875 -4.5 C 4.816406 -4.226562 4.488281 -4.039062 4.0625 -3.9375 Z M 4.0625 -3.9375 \"/>\n",
       "</symbol>\n",
       "<symbol overflow=\"visible\" id=\"glyph0-5\">\n",
       "<path style=\"stroke:none;\" d=\"M 3.78125 -6.4375 L 1.296875 -2.546875 L 3.78125 -2.546875 Z M 3.515625 -7.296875 L 4.765625 -7.296875 L 4.765625 -2.546875 L 5.796875 -2.546875 L 5.796875 -1.71875 L 4.765625 -1.71875 L 4.765625 0 L 3.78125 0 L 3.78125 -1.71875 L 0.484375 -1.71875 L 0.484375 -2.671875 Z M 3.515625 -7.296875 \"/>\n",
       "</symbol>\n",
       "<symbol overflow=\"visible\" id=\"glyph0-6\">\n",
       "<path style=\"stroke:none;\" d=\"M 1.078125 -7.296875 L 4.953125 -7.296875 L 4.953125 -6.453125 L 1.984375 -6.453125 L 1.984375 -4.671875 C 2.128906 -4.722656 2.269531 -4.757812 2.40625 -4.78125 C 2.550781 -4.800781 2.695312 -4.8125 2.84375 -4.8125 C 3.65625 -4.8125 4.296875 -4.585938 4.765625 -4.140625 C 5.242188 -3.703125 5.484375 -3.101562 5.484375 -2.34375 C 5.484375 -1.550781 5.238281 -0.9375 4.75 -0.5 C 4.269531 -0.0703125 3.582031 0.140625 2.6875 0.140625 C 2.382812 0.140625 2.070312 0.113281 1.75 0.0625 C 1.4375 0.0078125 1.109375 -0.0664062 0.765625 -0.171875 L 0.765625 -1.15625 C 1.066406 -1 1.375 -0.878906 1.6875 -0.796875 C 2 -0.722656 2.328125 -0.6875 2.671875 -0.6875 C 3.234375 -0.6875 3.675781 -0.832031 4 -1.125 C 4.332031 -1.425781 4.5 -1.832031 4.5 -2.34375 C 4.5 -2.84375 4.332031 -3.238281 4 -3.53125 C 3.675781 -3.832031 3.234375 -3.984375 2.671875 -3.984375 C 2.410156 -3.984375 2.144531 -3.953125 1.875 -3.890625 C 1.613281 -3.835938 1.347656 -3.75 1.078125 -3.625 Z M 1.078125 -7.296875 \"/>\n",
       "</symbol>\n",
       "<symbol overflow=\"visible\" id=\"glyph0-7\">\n",
       "<path style=\"stroke:none;\" d=\"M 3.296875 -4.03125 C 2.859375 -4.03125 2.507812 -3.878906 2.25 -3.578125 C 1.988281 -3.273438 1.859375 -2.863281 1.859375 -2.34375 C 1.859375 -1.8125 1.988281 -1.394531 2.25 -1.09375 C 2.507812 -0.789062 2.859375 -0.640625 3.296875 -0.640625 C 3.742188 -0.640625 4.09375 -0.789062 4.34375 -1.09375 C 4.601562 -1.394531 4.734375 -1.8125 4.734375 -2.34375 C 4.734375 -2.863281 4.601562 -3.273438 4.34375 -3.578125 C 4.09375 -3.878906 3.742188 -4.03125 3.296875 -4.03125 Z M 5.265625 -7.125 L 5.265625 -6.234375 C 5.015625 -6.347656 4.757812 -6.4375 4.5 -6.5 C 4.25 -6.5625 4.003906 -6.59375 3.765625 -6.59375 C 3.109375 -6.59375 2.609375 -6.375 2.265625 -5.9375 C 1.921875 -5.5 1.726562 -4.832031 1.6875 -3.9375 C 1.875 -4.21875 2.113281 -4.429688 2.40625 -4.578125 C 2.695312 -4.734375 3.015625 -4.8125 3.359375 -4.8125 C 4.085938 -4.8125 4.664062 -4.585938 5.09375 -4.140625 C 5.519531 -3.703125 5.734375 -3.101562 5.734375 -2.34375 C 5.734375 -1.59375 5.507812 -0.988281 5.0625 -0.53125 C 4.625 -0.0820312 4.035156 0.140625 3.296875 0.140625 C 2.453125 0.140625 1.804688 -0.179688 1.359375 -0.828125 C 0.921875 -1.472656 0.703125 -2.410156 0.703125 -3.640625 C 0.703125 -4.785156 0.972656 -5.703125 1.515625 -6.390625 C 2.066406 -7.078125 2.800781 -7.421875 3.71875 -7.421875 C 3.96875 -7.421875 4.21875 -7.394531 4.46875 -7.34375 C 4.71875 -7.300781 4.984375 -7.226562 5.265625 -7.125 Z M 5.265625 -7.125 \"/>\n",
       "</symbol>\n",
       "<symbol overflow=\"visible\" id=\"glyph0-8\">\n",
       "<path style=\"stroke:none;\" d=\"M 0.828125 -7.296875 L 5.515625 -7.296875 L 5.515625 -6.875 L 2.859375 0 L 1.828125 0 L 4.328125 -6.453125 L 0.828125 -6.453125 Z M 0.828125 -7.296875 \"/>\n",
       "</symbol>\n",
       "<symbol overflow=\"visible\" id=\"glyph0-9\">\n",
       "<path style=\"stroke:none;\" d=\"M 3.171875 -3.46875 C 2.703125 -3.46875 2.332031 -3.335938 2.0625 -3.078125 C 1.800781 -2.828125 1.671875 -2.484375 1.671875 -2.046875 C 1.671875 -1.609375 1.800781 -1.265625 2.0625 -1.015625 C 2.332031 -0.765625 2.703125 -0.640625 3.171875 -0.640625 C 3.640625 -0.640625 4.007812 -0.765625 4.28125 -1.015625 C 4.550781 -1.265625 4.6875 -1.609375 4.6875 -2.046875 C 4.6875 -2.484375 4.550781 -2.828125 4.28125 -3.078125 C 4.019531 -3.335938 3.648438 -3.46875 3.171875 -3.46875 Z M 2.1875 -3.875 C 1.769531 -3.976562 1.441406 -4.175781 1.203125 -4.46875 C 0.960938 -4.757812 0.84375 -5.113281 0.84375 -5.53125 C 0.84375 -6.113281 1.050781 -6.570312 1.46875 -6.90625 C 1.882812 -7.25 2.453125 -7.421875 3.171875 -7.421875 C 3.898438 -7.421875 4.472656 -7.25 4.890625 -6.90625 C 5.304688 -6.570312 5.515625 -6.113281 5.515625 -5.53125 C 5.515625 -5.113281 5.394531 -4.757812 5.15625 -4.46875 C 4.914062 -4.175781 4.585938 -3.976562 4.171875 -3.875 C 4.648438 -3.769531 5.019531 -3.554688 5.28125 -3.234375 C 5.539062 -2.910156 5.671875 -2.515625 5.671875 -2.046875 C 5.671875 -1.335938 5.457031 -0.796875 5.03125 -0.421875 C 4.601562 -0.046875 3.984375 0.140625 3.171875 0.140625 C 2.367188 0.140625 1.75 -0.046875 1.3125 -0.421875 C 0.882812 -0.796875 0.671875 -1.335938 0.671875 -2.046875 C 0.671875 -2.515625 0.804688 -2.910156 1.078125 -3.234375 C 1.347656 -3.554688 1.71875 -3.769531 2.1875 -3.875 Z M 1.828125 -5.4375 C 1.828125 -5.0625 1.945312 -4.765625 2.1875 -4.546875 C 2.425781 -4.335938 2.753906 -4.234375 3.171875 -4.234375 C 3.597656 -4.234375 3.929688 -4.335938 4.171875 -4.546875 C 4.410156 -4.765625 4.53125 -5.0625 4.53125 -5.4375 C 4.53125 -5.8125 4.410156 -6.101562 4.171875 -6.3125 C 3.929688 -6.53125 3.597656 -6.640625 3.171875 -6.640625 C 2.753906 -6.640625 2.425781 -6.53125 2.1875 -6.3125 C 1.945312 -6.101562 1.828125 -5.8125 1.828125 -5.4375 Z M 1.828125 -5.4375 \"/>\n",
       "</symbol>\n",
       "<symbol overflow=\"visible\" id=\"glyph0-10\">\n",
       "<path style=\"stroke:none;\" d=\"M 1.09375 -0.15625 L 1.09375 -1.046875 C 1.34375 -0.929688 1.59375 -0.84375 1.84375 -0.78125 C 2.101562 -0.71875 2.351562 -0.6875 2.59375 -0.6875 C 3.25 -0.6875 3.75 -0.90625 4.09375 -1.34375 C 4.4375 -1.78125 4.628906 -2.445312 4.671875 -3.34375 C 4.484375 -3.0625 4.242188 -2.84375 3.953125 -2.6875 C 3.671875 -2.539062 3.351562 -2.46875 3 -2.46875 C 2.269531 -2.46875 1.691406 -2.6875 1.265625 -3.125 C 0.835938 -3.570312 0.625 -4.175781 0.625 -4.9375 C 0.625 -5.6875 0.84375 -6.285156 1.28125 -6.734375 C 1.726562 -7.191406 2.320312 -7.421875 3.0625 -7.421875 C 3.90625 -7.421875 4.546875 -7.097656 4.984375 -6.453125 C 5.429688 -5.804688 5.65625 -4.867188 5.65625 -3.640625 C 5.65625 -2.492188 5.382812 -1.578125 4.84375 -0.890625 C 4.300781 -0.203125 3.566406 0.140625 2.640625 0.140625 C 2.390625 0.140625 2.140625 0.113281 1.890625 0.0625 C 1.640625 0.0195312 1.375 -0.0507812 1.09375 -0.15625 Z M 3.0625 -3.25 C 3.5 -3.25 3.847656 -3.398438 4.109375 -3.703125 C 4.367188 -4.003906 4.5 -4.414062 4.5 -4.9375 C 4.5 -5.46875 4.367188 -5.882812 4.109375 -6.1875 C 3.847656 -6.488281 3.5 -6.640625 3.0625 -6.640625 C 2.613281 -6.640625 2.257812 -6.488281 2 -6.1875 C 1.75 -5.882812 1.625 -5.46875 1.625 -4.9375 C 1.625 -4.414062 1.75 -4.003906 2 -3.703125 C 2.257812 -3.398438 2.613281 -3.25 3.0625 -3.25 Z M 3.0625 -3.25 \"/>\n",
       "</symbol>\n",
       "</g>\n",
       "</defs>\n",
       "<g id=\"surface8\">\n",
       "<rect x=\"0\" y=\"0\" width=\"600\" height=\"600\" style=\"fill:rgb(100%,100%,100%);fill-opacity:1;stroke:none;\"/>\n",
       "<g style=\"fill:rgb(0%,0%,0%);fill-opacity:1;\">\n",
       "  <use xlink:href=\"#glyph0-1\" x=\"20.171875\" y=\"29.601562\"/>\n",
       "</g>\n",
       "<g style=\"fill:rgb(0%,0%,0%);fill-opacity:1;\">\n",
       "  <use xlink:href=\"#glyph0-2\" x=\"20.609375\" y=\"212.253906\"/>\n",
       "</g>\n",
       "<g style=\"fill:rgb(0%,0%,0%);fill-opacity:1;\">\n",
       "  <use xlink:href=\"#glyph0-3\" x=\"20.25\" y=\"90.460938\"/>\n",
       "</g>\n",
       "<g style=\"fill:rgb(0%,0%,0%);fill-opacity:1;\">\n",
       "  <use xlink:href=\"#glyph0-4\" x=\"20.28125\" y=\"273.316406\"/>\n",
       "</g>\n",
       "<g style=\"fill:rgb(0%,0%,0%);fill-opacity:1;\">\n",
       "  <use xlink:href=\"#glyph0-5\" x=\"20\" y=\"334.113281\"/>\n",
       "</g>\n",
       "<g style=\"fill:rgb(0%,0%,0%);fill-opacity:1;\">\n",
       "  <use xlink:href=\"#glyph0-6\" x=\"20.28125\" y=\"151.398438\"/>\n",
       "</g>\n",
       "<g style=\"fill:rgb(0%,0%,0%);fill-opacity:1;\">\n",
       "  <use xlink:href=\"#glyph0-7\" x=\"20.21875\" y=\"395.175781\"/>\n",
       "</g>\n",
       "<g style=\"fill:rgb(0%,0%,0%);fill-opacity:1;\">\n",
       "  <use xlink:href=\"#glyph0-8\" x=\"20.34375\" y=\"455.96875\"/>\n",
       "</g>\n",
       "<g style=\"fill:rgb(0%,0%,0%);fill-opacity:1;\">\n",
       "  <use xlink:href=\"#glyph0-9\" x=\"20.1875\" y=\"517.03125\"/>\n",
       "</g>\n",
       "<g style=\"fill:rgb(0%,0%,0%);fill-opacity:1;\">\n",
       "  <use xlink:href=\"#glyph0-10\" x=\"20.140625\" y=\"577.960938\"/>\n",
       "</g>\n",
       "<path style=\"fill:none;stroke-width:1;stroke-linecap:butt;stroke-linejoin:miter;stroke:rgb(0%,0%,0%);stroke-opacity:1;stroke-miterlimit:10;\" d=\"M 7.878906 554.179688 L 67.472656 554.179688 L 67.472656 493.25 L 7.878906 493.25 \" transform=\"matrix(1,0,0,1,20,20)\"/>\n",
       "<path style=\"fill:none;stroke-width:1;stroke-linecap:butt;stroke-linejoin:miter;stroke:rgb(0%,0%,0%);stroke-opacity:1;stroke-miterlimit:10;\" d=\"M 7.878906 371.394531 L 127.070312 371.394531 L 127.070312 310.464844 L 7.878906 310.464844 \" transform=\"matrix(1,0,0,1,20,20)\"/>\n",
       "<path style=\"fill:none;stroke-width:1;stroke-linecap:butt;stroke-linejoin:miter;stroke:rgb(0%,0%,0%);stroke-opacity:1;stroke-miterlimit:10;\" d=\"M 127.070312 340.929688 L 186.667969 340.929688 L 186.667969 249.535156 L 7.878906 249.535156 \" transform=\"matrix(1,0,0,1,20,20)\"/>\n",
       "<path style=\"fill:none;stroke-width:1;stroke-linecap:butt;stroke-linejoin:miter;stroke:rgb(0%,0%,0%);stroke-opacity:1;stroke-miterlimit:10;\" d=\"M 7.878906 127.679688 L 246.261719 127.679688 L 246.261719 66.75 L 7.878906 66.75 \" transform=\"matrix(1,0,0,1,20,20)\"/>\n",
       "<path style=\"fill:none;stroke-width:1;stroke-linecap:butt;stroke-linejoin:miter;stroke:rgb(0%,0%,0%);stroke-opacity:1;stroke-miterlimit:10;\" d=\"M 186.667969 295.230469 L 305.859375 295.230469 L 305.859375 188.605469 L 7.878906 188.605469 \" transform=\"matrix(1,0,0,1,20,20)\"/>\n",
       "<path style=\"fill:none;stroke-width:1;stroke-linecap:butt;stroke-linejoin:miter;stroke:rgb(0%,0%,0%);stroke-opacity:1;stroke-miterlimit:10;\" d=\"M 246.261719 97.214844 L 365.457031 97.214844 L 365.457031 5.820312 L 7.878906 5.820312 \" transform=\"matrix(1,0,0,1,20,20)\"/>\n",
       "<path style=\"fill:none;stroke-width:1;stroke-linecap:butt;stroke-linejoin:miter;stroke:rgb(0%,0%,0%);stroke-opacity:1;stroke-miterlimit:10;\" d=\"M 305.859375 241.917969 L 425.050781 241.917969 L 425.050781 51.515625 L 365.457031 51.515625 \" transform=\"matrix(1,0,0,1,20,20)\"/>\n",
       "<path style=\"fill:none;stroke-width:1;stroke-linecap:butt;stroke-linejoin:miter;stroke:rgb(0%,0%,0%);stroke-opacity:1;stroke-miterlimit:10;\" d=\"M 7.878906 432.320312 L 484.648438 432.320312 L 484.648438 146.71875 L 425.050781 146.71875 \" transform=\"matrix(1,0,0,1,20,20)\"/>\n",
       "<path style=\"fill:none;stroke-width:1;stroke-linecap:butt;stroke-linejoin:miter;stroke:rgb(0%,0%,0%);stroke-opacity:1;stroke-miterlimit:10;\" d=\"M 67.472656 523.714844 L 544.242188 523.714844 L 544.242188 289.519531 L 484.648438 289.519531 \" transform=\"matrix(1,0,0,1,20,20)\"/>\n",
       "</g>\n",
       "</svg>\n"
      ],
      "text/plain": [
       "<igraph.drawing.Plot at 0x7fcfb67c6898>"
      ]
     },
     "execution_count": 8,
     "metadata": {
      "image/svg+xml": {
       "isolated": true
      }
     },
     "output_type": "execute_result"
    }
   ],
   "source": [
    "# For testing your implementation\n",
    "g = ig.Graph.Famous('Krackhardt_Kite')\n",
    "\n",
    "# Show dendrogram, the optimal modularity and corresponding clustering\n",
    "graph_clustering, opt_mod = calculate_girvan_newman_clustering(g)\n",
    "\n",
    "print(graph_clustering)\n",
    "print(opt_mod)\n",
    "\n",
    "# built from the order in which the edges are removed:\n",
    "merges=[[9,8],[6,4],[11,3], [5,2], [12,1], [13,0], [14,15], [7,16], [10,17]]\n",
    "den = ig.Dendrogram(merges)\n",
    "ig.plot(den)"
   ]
  },
  {
   "cell_type": "code",
   "execution_count": 9,
   "metadata": {},
   "outputs": [
    {
     "name": "stdout",
     "output_type": "stream",
     "text": [
      "lib: Clustering with 10 elements and 3 clusters\n",
      "[0] 0, 2, 3, 5\n",
      "[1] 1, 4, 6\n",
      "[2] 7, 8, 9\n"
     ]
    },
    {
     "data": {
      "image/svg+xml": [
       "<?xml version=\"1.0\" encoding=\"UTF-8\"?>\n",
       "<svg xmlns=\"http://www.w3.org/2000/svg\" xmlns:xlink=\"http://www.w3.org/1999/xlink\" width=\"600pt\" height=\"600pt\" viewBox=\"0 0 600 600\" version=\"1.1\">\n",
       "<g id=\"surface14\">\n",
       "<rect x=\"0\" y=\"0\" width=\"600\" height=\"600\" style=\"fill:rgb(100%,100%,100%);fill-opacity:1;stroke:none;\"/>\n",
       "<path style=\"fill:none;stroke-width:1;stroke-linecap:butt;stroke-linejoin:miter;stroke:rgb(80%,80%,80%);stroke-opacity:1;stroke-miterlimit:10;\" d=\"M 415.886719 580 L 148.148438 560.863281 \"/>\n",
       "<path style=\"fill:none;stroke-width:1;stroke-linecap:butt;stroke-linejoin:miter;stroke:rgb(20%,20%,20%);stroke-opacity:1;stroke-miterlimit:10;\" d=\"M 415.886719 580 L 580 513.742188 \"/>\n",
       "<path style=\"fill:none;stroke-width:1;stroke-linecap:butt;stroke-linejoin:miter;stroke:rgb(20%,20%,20%);stroke-opacity:1;stroke-miterlimit:10;\" d=\"M 415.886719 580 L 298.464844 500.273438 \"/>\n",
       "<path style=\"fill:none;stroke-width:1;stroke-linecap:butt;stroke-linejoin:miter;stroke:rgb(20%,20%,20%);stroke-opacity:1;stroke-miterlimit:10;\" d=\"M 415.886719 580 L 449.53125 415.351562 \"/>\n",
       "<path style=\"fill:none;stroke-width:1;stroke-linecap:butt;stroke-linejoin:miter;stroke:rgb(80%,80%,80%);stroke-opacity:1;stroke-miterlimit:10;\" d=\"M 148.148438 560.863281 L 298.464844 500.273438 \"/>\n",
       "<path style=\"fill:none;stroke-width:1;stroke-linecap:butt;stroke-linejoin:miter;stroke:rgb(20%,20%,20%);stroke-opacity:1;stroke-miterlimit:10;\" d=\"M 148.148438 560.863281 L 20 473.714844 \"/>\n",
       "<path style=\"fill:none;stroke-width:1;stroke-linecap:butt;stroke-linejoin:miter;stroke:rgb(20%,20%,20%);stroke-opacity:1;stroke-miterlimit:10;\" d=\"M 148.148438 560.863281 L 191.542969 396.910156 \"/>\n",
       "<path style=\"fill:none;stroke-width:1;stroke-linecap:butt;stroke-linejoin:miter;stroke:rgb(20%,20%,20%);stroke-opacity:1;stroke-miterlimit:10;\" d=\"M 580 513.742188 L 298.464844 500.273438 \"/>\n",
       "<path style=\"fill:none;stroke-width:1;stroke-linecap:butt;stroke-linejoin:miter;stroke:rgb(20%,20%,20%);stroke-opacity:1;stroke-miterlimit:10;\" d=\"M 580 513.742188 L 449.53125 415.351562 \"/>\n",
       "<path style=\"fill:none;stroke-width:1;stroke-linecap:butt;stroke-linejoin:miter;stroke:rgb(80%,80%,80%);stroke-opacity:1;stroke-miterlimit:10;\" d=\"M 298.464844 500.273438 L 20 473.714844 \"/>\n",
       "<path style=\"fill:none;stroke-width:1;stroke-linecap:butt;stroke-linejoin:miter;stroke:rgb(20%,20%,20%);stroke-opacity:1;stroke-miterlimit:10;\" d=\"M 298.464844 500.273438 L 449.53125 415.351562 \"/>\n",
       "<path style=\"fill:none;stroke-width:1;stroke-linecap:butt;stroke-linejoin:miter;stroke:rgb(80%,80%,80%);stroke-opacity:1;stroke-miterlimit:10;\" d=\"M 298.464844 500.273438 L 191.542969 396.910156 \"/>\n",
       "<path style=\"fill:none;stroke-width:1;stroke-linecap:butt;stroke-linejoin:miter;stroke:rgb(20%,20%,20%);stroke-opacity:1;stroke-miterlimit:10;\" d=\"M 20 473.714844 L 191.542969 396.910156 \"/>\n",
       "<path style=\"fill:none;stroke-width:1;stroke-linecap:butt;stroke-linejoin:miter;stroke:rgb(80%,80%,80%);stroke-opacity:1;stroke-miterlimit:10;\" d=\"M 449.53125 415.351562 L 191.542969 396.910156 \"/>\n",
       "<path style=\"fill:none;stroke-width:1;stroke-linecap:butt;stroke-linejoin:miter;stroke:rgb(80%,80%,80%);stroke-opacity:1;stroke-miterlimit:10;\" d=\"M 449.53125 415.351562 L 347.90625 289.386719 \"/>\n",
       "<path style=\"fill:none;stroke-width:1;stroke-linecap:butt;stroke-linejoin:miter;stroke:rgb(80%,80%,80%);stroke-opacity:1;stroke-miterlimit:10;\" d=\"M 191.542969 396.910156 L 347.90625 289.386719 \"/>\n",
       "<path style=\"fill:none;stroke-width:1;stroke-linecap:butt;stroke-linejoin:miter;stroke:rgb(20%,20%,20%);stroke-opacity:1;stroke-miterlimit:10;\" d=\"M 347.90625 289.386719 L 379.863281 153.082031 \"/>\n",
       "<path style=\"fill:none;stroke-width:1;stroke-linecap:butt;stroke-linejoin:miter;stroke:rgb(20%,20%,20%);stroke-opacity:1;stroke-miterlimit:10;\" d=\"M 379.863281 153.082031 L 411.0625 20 \"/>\n",
       "<path style=\"fill-rule:nonzero;fill:rgb(100%,0%,0%);fill-opacity:1;stroke-width:1;stroke-linecap:butt;stroke-linejoin:miter;stroke:rgb(0%,0%,0%);stroke-opacity:1;stroke-miterlimit:10;\" d=\"M 425.886719 580 C 425.886719 585.523438 421.410156 590 415.886719 590 C 410.363281 590 405.886719 585.523438 405.886719 580 C 405.886719 574.476562 410.363281 570 415.886719 570 C 421.410156 570 425.886719 574.476562 425.886719 580 \"/>\n",
       "<path style=\"fill-rule:nonzero;fill:rgb(0%,100%,0%);fill-opacity:1;stroke-width:1;stroke-linecap:butt;stroke-linejoin:miter;stroke:rgb(0%,0%,0%);stroke-opacity:1;stroke-miterlimit:10;\" d=\"M 158.148438 560.863281 C 158.148438 566.382812 153.671875 570.863281 148.148438 570.863281 C 142.625 570.863281 138.148438 566.382812 138.148438 560.863281 C 138.148438 555.339844 142.625 550.863281 148.148438 550.863281 C 153.671875 550.863281 158.148438 555.339844 158.148438 560.863281 \"/>\n",
       "<path style=\"fill-rule:nonzero;fill:rgb(100%,0%,0%);fill-opacity:1;stroke-width:1;stroke-linecap:butt;stroke-linejoin:miter;stroke:rgb(0%,0%,0%);stroke-opacity:1;stroke-miterlimit:10;\" d=\"M 590 513.742188 C 590 519.265625 585.523438 523.742188 580 523.742188 C 574.476562 523.742188 570 519.265625 570 513.742188 C 570 508.21875 574.476562 503.742188 580 503.742188 C 585.523438 503.742188 590 508.21875 590 513.742188 \"/>\n",
       "<path style=\"fill-rule:nonzero;fill:rgb(100%,0%,0%);fill-opacity:1;stroke-width:1;stroke-linecap:butt;stroke-linejoin:miter;stroke:rgb(0%,0%,0%);stroke-opacity:1;stroke-miterlimit:10;\" d=\"M 308.464844 500.273438 C 308.464844 505.796875 303.988281 510.273438 298.464844 510.273438 C 292.941406 510.273438 288.464844 505.796875 288.464844 500.273438 C 288.464844 494.75 292.941406 490.273438 298.464844 490.273438 C 303.988281 490.273438 308.464844 494.75 308.464844 500.273438 \"/>\n",
       "<path style=\"fill-rule:nonzero;fill:rgb(0%,100%,0%);fill-opacity:1;stroke-width:1;stroke-linecap:butt;stroke-linejoin:miter;stroke:rgb(0%,0%,0%);stroke-opacity:1;stroke-miterlimit:10;\" d=\"M 30 473.714844 C 30 479.238281 25.523438 483.714844 20 483.714844 C 14.476562 483.714844 10 479.238281 10 473.714844 C 10 468.191406 14.476562 463.714844 20 463.714844 C 25.523438 463.714844 30 468.191406 30 473.714844 \"/>\n",
       "<path style=\"fill-rule:nonzero;fill:rgb(100%,0%,0%);fill-opacity:1;stroke-width:1;stroke-linecap:butt;stroke-linejoin:miter;stroke:rgb(0%,0%,0%);stroke-opacity:1;stroke-miterlimit:10;\" d=\"M 459.53125 415.351562 C 459.53125 420.871094 455.054688 425.351562 449.53125 425.351562 C 444.007812 425.351562 439.53125 420.871094 439.53125 415.351562 C 439.53125 409.828125 444.007812 405.351562 449.53125 405.351562 C 455.054688 405.351562 459.53125 409.828125 459.53125 415.351562 \"/>\n",
       "<path style=\"fill-rule:nonzero;fill:rgb(0%,100%,0%);fill-opacity:1;stroke-width:1;stroke-linecap:butt;stroke-linejoin:miter;stroke:rgb(0%,0%,0%);stroke-opacity:1;stroke-miterlimit:10;\" d=\"M 201.542969 396.910156 C 201.542969 402.433594 197.066406 406.910156 191.542969 406.910156 C 186.019531 406.910156 181.542969 402.433594 181.542969 396.910156 C 181.542969 391.386719 186.019531 386.910156 191.542969 386.910156 C 197.066406 386.910156 201.542969 391.386719 201.542969 396.910156 \"/>\n",
       "<path style=\"fill-rule:nonzero;fill:rgb(0%,0%,100%);fill-opacity:1;stroke-width:1;stroke-linecap:butt;stroke-linejoin:miter;stroke:rgb(0%,0%,0%);stroke-opacity:1;stroke-miterlimit:10;\" d=\"M 357.90625 289.386719 C 357.90625 294.910156 353.429688 299.386719 347.90625 299.386719 C 342.382812 299.386719 337.90625 294.910156 337.90625 289.386719 C 337.90625 283.863281 342.382812 279.386719 347.90625 279.386719 C 353.429688 279.386719 357.90625 283.863281 357.90625 289.386719 \"/>\n",
       "<path style=\"fill-rule:nonzero;fill:rgb(0%,0%,100%);fill-opacity:1;stroke-width:1;stroke-linecap:butt;stroke-linejoin:miter;stroke:rgb(0%,0%,0%);stroke-opacity:1;stroke-miterlimit:10;\" d=\"M 389.863281 153.082031 C 389.863281 158.605469 385.382812 163.082031 379.863281 163.082031 C 374.339844 163.082031 369.863281 158.605469 369.863281 153.082031 C 369.863281 147.558594 374.339844 143.082031 379.863281 143.082031 C 385.382812 143.082031 389.863281 147.558594 389.863281 153.082031 \"/>\n",
       "<path style=\"fill-rule:nonzero;fill:rgb(0%,0%,100%);fill-opacity:1;stroke-width:1;stroke-linecap:butt;stroke-linejoin:miter;stroke:rgb(0%,0%,0%);stroke-opacity:1;stroke-miterlimit:10;\" d=\"M 421.0625 20 C 421.0625 25.523438 416.585938 30 411.0625 30 C 405.539062 30 401.0625 25.523438 401.0625 20 C 401.0625 14.476562 405.539062 10 411.0625 10 C 416.585938 10 421.0625 14.476562 421.0625 20 \"/>\n",
       "</g>\n",
       "</svg>\n"
      ],
      "text/plain": [
       "<igraph.drawing.Plot at 0x7fcfb67c6358>"
      ]
     },
     "execution_count": 9,
     "metadata": {
      "image/svg+xml": {
       "isolated": true
      }
     },
     "output_type": "execute_result"
    }
   ],
   "source": [
    "g = ig.Graph.Famous('Krackhardt_Kite')\n",
    "print(\"lib:\",  g.community_optimal_modularity())\n",
    "g = ig.Graph.Famous('Krackhardt_Kite')\n",
    "ig.plot(g.community_optimal_modularity())"
   ]
  },
  {
   "cell_type": "markdown",
   "metadata": {},
   "source": [
    "**NOTE:** This clustering cannot be achieved using the Girvan-Newman Algorithm because of order in which the edges are removed from the graph. For example, Cluster 2 (in blue) gets separated in the first iteration, when edge (7,8) gets removed."
   ]
  },
  {
   "cell_type": "code",
   "execution_count": 10,
   "metadata": {},
   "outputs": [
    {
     "data": {
      "image/svg+xml": [
       "<?xml version=\"1.0\" encoding=\"UTF-8\"?>\n",
       "<svg xmlns=\"http://www.w3.org/2000/svg\" xmlns:xlink=\"http://www.w3.org/1999/xlink\" width=\"600pt\" height=\"600pt\" viewBox=\"0 0 600 600\" version=\"1.1\">\n",
       "<defs>\n",
       "<g>\n",
       "<symbol overflow=\"visible\" id=\"glyph0-0\">\n",
       "<path style=\"stroke:none;\" d=\"M 0.5 1.765625 L 0.5 -7.046875 L 5.5 -7.046875 L 5.5 1.765625 Z M 1.0625 1.21875 L 4.9375 1.21875 L 4.9375 -6.484375 L 1.0625 -6.484375 Z M 1.0625 1.21875 \"/>\n",
       "</symbol>\n",
       "<symbol overflow=\"visible\" id=\"glyph0-1\">\n",
       "<path style=\"stroke:none;\" d=\"M 3.171875 -6.640625 C 2.671875 -6.640625 2.289062 -6.390625 2.03125 -5.890625 C 1.78125 -5.390625 1.65625 -4.640625 1.65625 -3.640625 C 1.65625 -2.640625 1.78125 -1.890625 2.03125 -1.390625 C 2.289062 -0.890625 2.671875 -0.640625 3.171875 -0.640625 C 3.691406 -0.640625 4.078125 -0.890625 4.328125 -1.390625 C 4.585938 -1.890625 4.71875 -2.640625 4.71875 -3.640625 C 4.71875 -4.640625 4.585938 -5.390625 4.328125 -5.890625 C 4.078125 -6.390625 3.691406 -6.640625 3.171875 -6.640625 Z M 3.171875 -7.421875 C 3.992188 -7.421875 4.617188 -7.097656 5.046875 -6.453125 C 5.484375 -5.804688 5.703125 -4.867188 5.703125 -3.640625 C 5.703125 -2.410156 5.484375 -1.472656 5.046875 -0.828125 C 4.617188 -0.179688 3.992188 0.140625 3.171875 0.140625 C 2.359375 0.140625 1.734375 -0.179688 1.296875 -0.828125 C 0.867188 -1.472656 0.65625 -2.410156 0.65625 -3.640625 C 0.65625 -4.867188 0.867188 -5.804688 1.296875 -6.453125 C 1.734375 -7.097656 2.359375 -7.421875 3.171875 -7.421875 Z M 3.171875 -7.421875 \"/>\n",
       "</symbol>\n",
       "<symbol overflow=\"visible\" id=\"glyph0-2\">\n",
       "<path style=\"stroke:none;\" d=\"M 1.234375 -0.828125 L 2.859375 -0.828125 L 2.859375 -6.390625 L 1.09375 -6.046875 L 1.09375 -6.9375 L 2.84375 -7.296875 L 3.828125 -7.296875 L 3.828125 -0.828125 L 5.4375 -0.828125 L 5.4375 0 L 1.234375 0 Z M 1.234375 -0.828125 \"/>\n",
       "</symbol>\n",
       "<symbol overflow=\"visible\" id=\"glyph0-3\">\n",
       "<path style=\"stroke:none;\" d=\"M 1.921875 -0.828125 L 5.359375 -0.828125 L 5.359375 0 L 0.734375 0 L 0.734375 -0.828125 C 1.109375 -1.210938 1.617188 -1.734375 2.265625 -2.390625 C 2.910156 -3.046875 3.316406 -3.46875 3.484375 -3.65625 C 3.796875 -4.007812 4.015625 -4.304688 4.140625 -4.546875 C 4.265625 -4.796875 4.328125 -5.039062 4.328125 -5.28125 C 4.328125 -5.664062 4.191406 -5.976562 3.921875 -6.21875 C 3.648438 -6.46875 3.296875 -6.59375 2.859375 -6.59375 C 2.546875 -6.59375 2.21875 -6.535156 1.875 -6.421875 C 1.539062 -6.316406 1.175781 -6.15625 0.78125 -5.9375 L 0.78125 -6.9375 C 1.175781 -7.09375 1.546875 -7.210938 1.890625 -7.296875 C 2.234375 -7.378906 2.550781 -7.421875 2.84375 -7.421875 C 3.59375 -7.421875 4.191406 -7.234375 4.640625 -6.859375 C 5.097656 -6.484375 5.328125 -5.976562 5.328125 -5.34375 C 5.328125 -5.039062 5.269531 -4.753906 5.15625 -4.484375 C 5.039062 -4.222656 4.835938 -3.910156 4.546875 -3.546875 C 4.460938 -3.453125 4.203125 -3.175781 3.765625 -2.71875 C 3.328125 -2.269531 2.710938 -1.640625 1.921875 -0.828125 Z M 1.921875 -0.828125 \"/>\n",
       "</symbol>\n",
       "<symbol overflow=\"visible\" id=\"glyph0-4\">\n",
       "<path style=\"stroke:none;\" d=\"M 4.0625 -3.9375 C 4.53125 -3.832031 4.894531 -3.617188 5.15625 -3.296875 C 5.425781 -2.984375 5.5625 -2.59375 5.5625 -2.125 C 5.5625 -1.40625 5.3125 -0.847656 4.8125 -0.453125 C 4.320312 -0.0546875 3.617188 0.140625 2.703125 0.140625 C 2.398438 0.140625 2.085938 0.109375 1.765625 0.046875 C 1.441406 -0.015625 1.109375 -0.101562 0.765625 -0.21875 L 0.765625 -1.171875 C 1.035156 -1.015625 1.332031 -0.894531 1.65625 -0.8125 C 1.988281 -0.726562 2.332031 -0.6875 2.6875 -0.6875 C 3.300781 -0.6875 3.769531 -0.804688 4.09375 -1.046875 C 4.414062 -1.296875 4.578125 -1.65625 4.578125 -2.125 C 4.578125 -2.550781 4.425781 -2.882812 4.125 -3.125 C 3.820312 -3.363281 3.40625 -3.484375 2.875 -3.484375 L 2.015625 -3.484375 L 2.015625 -4.296875 L 2.90625 -4.296875 C 3.394531 -4.296875 3.765625 -4.394531 4.015625 -4.59375 C 4.273438 -4.789062 4.40625 -5.070312 4.40625 -5.4375 C 4.40625 -5.800781 4.269531 -6.082031 4 -6.28125 C 3.738281 -6.488281 3.363281 -6.59375 2.875 -6.59375 C 2.601562 -6.59375 2.3125 -6.5625 2 -6.5 C 1.6875 -6.445312 1.347656 -6.359375 0.984375 -6.234375 L 0.984375 -7.109375 C 1.359375 -7.210938 1.707031 -7.289062 2.03125 -7.34375 C 2.363281 -7.394531 2.671875 -7.421875 2.953125 -7.421875 C 3.703125 -7.421875 4.296875 -7.25 4.734375 -6.90625 C 5.171875 -6.570312 5.390625 -6.113281 5.390625 -5.53125 C 5.390625 -5.125 5.273438 -4.78125 5.046875 -4.5 C 4.816406 -4.226562 4.488281 -4.039062 4.0625 -3.9375 Z M 4.0625 -3.9375 \"/>\n",
       "</symbol>\n",
       "<symbol overflow=\"visible\" id=\"glyph0-5\">\n",
       "<path style=\"stroke:none;\" d=\"M 3.78125 -6.4375 L 1.296875 -2.546875 L 3.78125 -2.546875 Z M 3.515625 -7.296875 L 4.765625 -7.296875 L 4.765625 -2.546875 L 5.796875 -2.546875 L 5.796875 -1.71875 L 4.765625 -1.71875 L 4.765625 0 L 3.78125 0 L 3.78125 -1.71875 L 0.484375 -1.71875 L 0.484375 -2.671875 Z M 3.515625 -7.296875 \"/>\n",
       "</symbol>\n",
       "<symbol overflow=\"visible\" id=\"glyph0-6\">\n",
       "<path style=\"stroke:none;\" d=\"M 1.078125 -7.296875 L 4.953125 -7.296875 L 4.953125 -6.453125 L 1.984375 -6.453125 L 1.984375 -4.671875 C 2.128906 -4.722656 2.269531 -4.757812 2.40625 -4.78125 C 2.550781 -4.800781 2.695312 -4.8125 2.84375 -4.8125 C 3.65625 -4.8125 4.296875 -4.585938 4.765625 -4.140625 C 5.242188 -3.703125 5.484375 -3.101562 5.484375 -2.34375 C 5.484375 -1.550781 5.238281 -0.9375 4.75 -0.5 C 4.269531 -0.0703125 3.582031 0.140625 2.6875 0.140625 C 2.382812 0.140625 2.070312 0.113281 1.75 0.0625 C 1.4375 0.0078125 1.109375 -0.0664062 0.765625 -0.171875 L 0.765625 -1.15625 C 1.066406 -1 1.375 -0.878906 1.6875 -0.796875 C 2 -0.722656 2.328125 -0.6875 2.671875 -0.6875 C 3.234375 -0.6875 3.675781 -0.832031 4 -1.125 C 4.332031 -1.425781 4.5 -1.832031 4.5 -2.34375 C 4.5 -2.84375 4.332031 -3.238281 4 -3.53125 C 3.675781 -3.832031 3.234375 -3.984375 2.671875 -3.984375 C 2.410156 -3.984375 2.144531 -3.953125 1.875 -3.890625 C 1.613281 -3.835938 1.347656 -3.75 1.078125 -3.625 Z M 1.078125 -7.296875 \"/>\n",
       "</symbol>\n",
       "<symbol overflow=\"visible\" id=\"glyph0-7\">\n",
       "<path style=\"stroke:none;\" d=\"M 3.296875 -4.03125 C 2.859375 -4.03125 2.507812 -3.878906 2.25 -3.578125 C 1.988281 -3.273438 1.859375 -2.863281 1.859375 -2.34375 C 1.859375 -1.8125 1.988281 -1.394531 2.25 -1.09375 C 2.507812 -0.789062 2.859375 -0.640625 3.296875 -0.640625 C 3.742188 -0.640625 4.09375 -0.789062 4.34375 -1.09375 C 4.601562 -1.394531 4.734375 -1.8125 4.734375 -2.34375 C 4.734375 -2.863281 4.601562 -3.273438 4.34375 -3.578125 C 4.09375 -3.878906 3.742188 -4.03125 3.296875 -4.03125 Z M 5.265625 -7.125 L 5.265625 -6.234375 C 5.015625 -6.347656 4.757812 -6.4375 4.5 -6.5 C 4.25 -6.5625 4.003906 -6.59375 3.765625 -6.59375 C 3.109375 -6.59375 2.609375 -6.375 2.265625 -5.9375 C 1.921875 -5.5 1.726562 -4.832031 1.6875 -3.9375 C 1.875 -4.21875 2.113281 -4.429688 2.40625 -4.578125 C 2.695312 -4.734375 3.015625 -4.8125 3.359375 -4.8125 C 4.085938 -4.8125 4.664062 -4.585938 5.09375 -4.140625 C 5.519531 -3.703125 5.734375 -3.101562 5.734375 -2.34375 C 5.734375 -1.59375 5.507812 -0.988281 5.0625 -0.53125 C 4.625 -0.0820312 4.035156 0.140625 3.296875 0.140625 C 2.453125 0.140625 1.804688 -0.179688 1.359375 -0.828125 C 0.921875 -1.472656 0.703125 -2.410156 0.703125 -3.640625 C 0.703125 -4.785156 0.972656 -5.703125 1.515625 -6.390625 C 2.066406 -7.078125 2.800781 -7.421875 3.71875 -7.421875 C 3.96875 -7.421875 4.21875 -7.394531 4.46875 -7.34375 C 4.71875 -7.300781 4.984375 -7.226562 5.265625 -7.125 Z M 5.265625 -7.125 \"/>\n",
       "</symbol>\n",
       "<symbol overflow=\"visible\" id=\"glyph0-8\">\n",
       "<path style=\"stroke:none;\" d=\"M 0.828125 -7.296875 L 5.515625 -7.296875 L 5.515625 -6.875 L 2.859375 0 L 1.828125 0 L 4.328125 -6.453125 L 0.828125 -6.453125 Z M 0.828125 -7.296875 \"/>\n",
       "</symbol>\n",
       "<symbol overflow=\"visible\" id=\"glyph0-9\">\n",
       "<path style=\"stroke:none;\" d=\"M 3.171875 -3.46875 C 2.703125 -3.46875 2.332031 -3.335938 2.0625 -3.078125 C 1.800781 -2.828125 1.671875 -2.484375 1.671875 -2.046875 C 1.671875 -1.609375 1.800781 -1.265625 2.0625 -1.015625 C 2.332031 -0.765625 2.703125 -0.640625 3.171875 -0.640625 C 3.640625 -0.640625 4.007812 -0.765625 4.28125 -1.015625 C 4.550781 -1.265625 4.6875 -1.609375 4.6875 -2.046875 C 4.6875 -2.484375 4.550781 -2.828125 4.28125 -3.078125 C 4.019531 -3.335938 3.648438 -3.46875 3.171875 -3.46875 Z M 2.1875 -3.875 C 1.769531 -3.976562 1.441406 -4.175781 1.203125 -4.46875 C 0.960938 -4.757812 0.84375 -5.113281 0.84375 -5.53125 C 0.84375 -6.113281 1.050781 -6.570312 1.46875 -6.90625 C 1.882812 -7.25 2.453125 -7.421875 3.171875 -7.421875 C 3.898438 -7.421875 4.472656 -7.25 4.890625 -6.90625 C 5.304688 -6.570312 5.515625 -6.113281 5.515625 -5.53125 C 5.515625 -5.113281 5.394531 -4.757812 5.15625 -4.46875 C 4.914062 -4.175781 4.585938 -3.976562 4.171875 -3.875 C 4.648438 -3.769531 5.019531 -3.554688 5.28125 -3.234375 C 5.539062 -2.910156 5.671875 -2.515625 5.671875 -2.046875 C 5.671875 -1.335938 5.457031 -0.796875 5.03125 -0.421875 C 4.601562 -0.046875 3.984375 0.140625 3.171875 0.140625 C 2.367188 0.140625 1.75 -0.046875 1.3125 -0.421875 C 0.882812 -0.796875 0.671875 -1.335938 0.671875 -2.046875 C 0.671875 -2.515625 0.804688 -2.910156 1.078125 -3.234375 C 1.347656 -3.554688 1.71875 -3.769531 2.1875 -3.875 Z M 1.828125 -5.4375 C 1.828125 -5.0625 1.945312 -4.765625 2.1875 -4.546875 C 2.425781 -4.335938 2.753906 -4.234375 3.171875 -4.234375 C 3.597656 -4.234375 3.929688 -4.335938 4.171875 -4.546875 C 4.410156 -4.765625 4.53125 -5.0625 4.53125 -5.4375 C 4.53125 -5.8125 4.410156 -6.101562 4.171875 -6.3125 C 3.929688 -6.53125 3.597656 -6.640625 3.171875 -6.640625 C 2.753906 -6.640625 2.425781 -6.53125 2.1875 -6.3125 C 1.945312 -6.101562 1.828125 -5.8125 1.828125 -5.4375 Z M 1.828125 -5.4375 \"/>\n",
       "</symbol>\n",
       "<symbol overflow=\"visible\" id=\"glyph0-10\">\n",
       "<path style=\"stroke:none;\" d=\"M 1.09375 -0.15625 L 1.09375 -1.046875 C 1.34375 -0.929688 1.59375 -0.84375 1.84375 -0.78125 C 2.101562 -0.71875 2.351562 -0.6875 2.59375 -0.6875 C 3.25 -0.6875 3.75 -0.90625 4.09375 -1.34375 C 4.4375 -1.78125 4.628906 -2.445312 4.671875 -3.34375 C 4.484375 -3.0625 4.242188 -2.84375 3.953125 -2.6875 C 3.671875 -2.539062 3.351562 -2.46875 3 -2.46875 C 2.269531 -2.46875 1.691406 -2.6875 1.265625 -3.125 C 0.835938 -3.570312 0.625 -4.175781 0.625 -4.9375 C 0.625 -5.6875 0.84375 -6.285156 1.28125 -6.734375 C 1.726562 -7.191406 2.320312 -7.421875 3.0625 -7.421875 C 3.90625 -7.421875 4.546875 -7.097656 4.984375 -6.453125 C 5.429688 -5.804688 5.65625 -4.867188 5.65625 -3.640625 C 5.65625 -2.492188 5.382812 -1.578125 4.84375 -0.890625 C 4.300781 -0.203125 3.566406 0.140625 2.640625 0.140625 C 2.390625 0.140625 2.140625 0.113281 1.890625 0.0625 C 1.640625 0.0195312 1.375 -0.0507812 1.09375 -0.15625 Z M 3.0625 -3.25 C 3.5 -3.25 3.847656 -3.398438 4.109375 -3.703125 C 4.367188 -4.003906 4.5 -4.414062 4.5 -4.9375 C 4.5 -5.46875 4.367188 -5.882812 4.109375 -6.1875 C 3.847656 -6.488281 3.5 -6.640625 3.0625 -6.640625 C 2.613281 -6.640625 2.257812 -6.488281 2 -6.1875 C 1.75 -5.882812 1.625 -5.46875 1.625 -4.9375 C 1.625 -4.414062 1.75 -4.003906 2 -3.703125 C 2.257812 -3.398438 2.613281 -3.25 3.0625 -3.25 Z M 3.0625 -3.25 \"/>\n",
       "</symbol>\n",
       "</g>\n",
       "</defs>\n",
       "<g id=\"surface20\">\n",
       "<rect x=\"0\" y=\"0\" width=\"600\" height=\"600\" style=\"fill:rgb(100%,100%,100%);fill-opacity:1;stroke:none;\"/>\n",
       "<g style=\"fill:rgb(0%,0%,0%);fill-opacity:1;\">\n",
       "  <use xlink:href=\"#glyph0-1\" x=\"20.171875\" y=\"29.601562\"/>\n",
       "</g>\n",
       "<g style=\"fill:rgb(0%,0%,0%);fill-opacity:1;\">\n",
       "  <use xlink:href=\"#glyph0-2\" x=\"20.609375\" y=\"212.253906\"/>\n",
       "</g>\n",
       "<g style=\"fill:rgb(0%,0%,0%);fill-opacity:1;\">\n",
       "  <use xlink:href=\"#glyph0-3\" x=\"20.25\" y=\"90.460938\"/>\n",
       "</g>\n",
       "<g style=\"fill:rgb(0%,0%,0%);fill-opacity:1;\">\n",
       "  <use xlink:href=\"#glyph0-4\" x=\"20.28125\" y=\"273.316406\"/>\n",
       "</g>\n",
       "<g style=\"fill:rgb(0%,0%,0%);fill-opacity:1;\">\n",
       "  <use xlink:href=\"#glyph0-5\" x=\"20\" y=\"334.113281\"/>\n",
       "</g>\n",
       "<g style=\"fill:rgb(0%,0%,0%);fill-opacity:1;\">\n",
       "  <use xlink:href=\"#glyph0-6\" x=\"20.28125\" y=\"151.398438\"/>\n",
       "</g>\n",
       "<g style=\"fill:rgb(0%,0%,0%);fill-opacity:1;\">\n",
       "  <use xlink:href=\"#glyph0-7\" x=\"20.21875\" y=\"395.175781\"/>\n",
       "</g>\n",
       "<g style=\"fill:rgb(0%,0%,0%);fill-opacity:1;\">\n",
       "  <use xlink:href=\"#glyph0-8\" x=\"20.34375\" y=\"455.96875\"/>\n",
       "</g>\n",
       "<g style=\"fill:rgb(0%,0%,0%);fill-opacity:1;\">\n",
       "  <use xlink:href=\"#glyph0-9\" x=\"20.1875\" y=\"517.03125\"/>\n",
       "</g>\n",
       "<g style=\"fill:rgb(0%,0%,0%);fill-opacity:1;\">\n",
       "  <use xlink:href=\"#glyph0-10\" x=\"20.140625\" y=\"577.960938\"/>\n",
       "</g>\n",
       "<path style=\"fill:none;stroke-width:1;stroke-linecap:butt;stroke-linejoin:miter;stroke:rgb(0%,0%,0%);stroke-opacity:1;stroke-miterlimit:10;\" d=\"M 7.878906 554.179688 L 67.472656 554.179688 L 67.472656 493.25 L 7.878906 493.25 \" transform=\"matrix(1,0,0,1,20,20)\"/>\n",
       "<path style=\"fill:none;stroke-width:1;stroke-linecap:butt;stroke-linejoin:miter;stroke:rgb(0%,0%,0%);stroke-opacity:1;stroke-miterlimit:10;\" d=\"M 7.878906 371.394531 L 127.070312 371.394531 L 127.070312 310.464844 L 7.878906 310.464844 \" transform=\"matrix(1,0,0,1,20,20)\"/>\n",
       "<path style=\"fill:none;stroke-width:1;stroke-linecap:butt;stroke-linejoin:miter;stroke:rgb(0%,0%,0%);stroke-opacity:1;stroke-miterlimit:10;\" d=\"M 127.070312 340.929688 L 186.667969 340.929688 L 186.667969 249.535156 L 7.878906 249.535156 \" transform=\"matrix(1,0,0,1,20,20)\"/>\n",
       "<path style=\"fill:none;stroke-width:1;stroke-linecap:butt;stroke-linejoin:miter;stroke:rgb(0%,0%,0%);stroke-opacity:1;stroke-miterlimit:10;\" d=\"M 7.878906 127.679688 L 246.261719 127.679688 L 246.261719 66.75 L 7.878906 66.75 \" transform=\"matrix(1,0,0,1,20,20)\"/>\n",
       "<path style=\"fill:none;stroke-width:1;stroke-linecap:butt;stroke-linejoin:miter;stroke:rgb(0%,0%,0%);stroke-opacity:1;stroke-miterlimit:10;\" d=\"M 186.667969 295.230469 L 305.859375 295.230469 L 305.859375 188.605469 L 7.878906 188.605469 \" transform=\"matrix(1,0,0,1,20,20)\"/>\n",
       "<path style=\"fill:none;stroke-width:1;stroke-linecap:butt;stroke-linejoin:miter;stroke:rgb(0%,0%,0%);stroke-opacity:1;stroke-miterlimit:10;\" d=\"M 246.261719 97.214844 L 365.457031 97.214844 L 365.457031 5.820312 L 7.878906 5.820312 \" transform=\"matrix(1,0,0,1,20,20)\"/>\n",
       "<path style=\"fill:none;stroke-width:1;stroke-linecap:butt;stroke-linejoin:miter;stroke:rgb(0%,0%,0%);stroke-opacity:1;stroke-miterlimit:10;\" d=\"M 305.859375 241.917969 L 425.050781 241.917969 L 425.050781 51.515625 L 365.457031 51.515625 \" transform=\"matrix(1,0,0,1,20,20)\"/>\n",
       "<path style=\"fill:none;stroke-width:1;stroke-linecap:butt;stroke-linejoin:miter;stroke:rgb(0%,0%,0%);stroke-opacity:1;stroke-miterlimit:10;\" d=\"M 7.878906 432.320312 L 484.648438 432.320312 L 484.648438 146.71875 L 425.050781 146.71875 \" transform=\"matrix(1,0,0,1,20,20)\"/>\n",
       "<path style=\"fill:none;stroke-width:1;stroke-linecap:butt;stroke-linejoin:miter;stroke:rgb(0%,0%,0%);stroke-opacity:1;stroke-miterlimit:10;\" d=\"M 67.472656 523.714844 L 544.242188 523.714844 L 544.242188 289.519531 L 484.648438 289.519531 \" transform=\"matrix(1,0,0,1,20,20)\"/>\n",
       "</g>\n",
       "</svg>\n"
      ],
      "text/plain": [
       "<igraph.drawing.Plot at 0x7fcfb67c6198>"
      ]
     },
     "execution_count": 10,
     "metadata": {
      "image/svg+xml": {
       "isolated": true
      }
     },
     "output_type": "execute_result"
    }
   ],
   "source": [
    "ig.plot(g.community_edge_betweenness())"
   ]
  },
  {
   "cell_type": "markdown",
   "metadata": {},
   "source": [
    "### (Optional) Task 3: Edge Betweenness\n",
    "As an optional task, you can implement the edge betweenness calculation that is given by the `edge_betweenness()` function above. You **do not** have to do this task in order to get the full grade but you can still improve if you were not able to solve the problems 5.1 or 5.2 sufficiently.\n",
    "    \n",
    "**Implement the edge betweenness based on Brandes' algorithm presented in [1].**\n",
    "\n",
    "[1] U. Brandes: _A Faster Algorithm for Betweenness Centrality._ 2001. ([PDF](https://algo.uni-konstanz.de/publications/b-fabc-01.pdf))"
   ]
  },
  {
   "cell_type": "code",
   "execution_count": 11,
   "metadata": {},
   "outputs": [],
   "source": [
    "def calculate_edge_betweenness(g):\n",
    "    C = {} # Edge betweenness dictionary\n",
    "    \n",
    "    # Calculate edge betweenness according to Brandes algorithm\n",
    "    \n",
    "    return C"
   ]
  }
 ],
 "metadata": {
  "anaconda-cloud": {},
  "kernelspec": {
   "display_name": "Python 3",
   "language": "python",
   "name": "python3"
  },
  "language_info": {
   "codemirror_mode": {
    "name": "ipython",
    "version": 3
   },
   "file_extension": ".py",
   "mimetype": "text/x-python",
   "name": "python",
   "nbconvert_exporter": "python",
   "pygments_lexer": "ipython3",
   "version": "3.4.3"
  }
 },
 "nbformat": 4,
 "nbformat_minor": 1
}
