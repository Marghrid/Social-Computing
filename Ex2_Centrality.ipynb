{
 "cells": [
  {
   "cell_type": "markdown",
   "metadata": {},
   "source": [
    "# Social Computing - Summer 2019\n",
    "\n",
    "# Exercise 2 - Centrality\n",
    "Centrality is a key concept in social network analysis. It measures the importance or influence of a certain node/edge in a network. The interpretation of importance or influence, however, depends on the type of centrality and the application for which it is measured. Different types of centrality were discussed in the lecture: degree centrality, closeness centrality, betweenness centrality and eigenvector centrality.<br>\n",
    "In this exercise, you are going to implement different centrality algorithms using the igraph library which you already know from last exercise. You can find its manual [here](https://igraph.org/python/doc/igraph-module.html) and a tutorial [here](https://igraph.org/python/doc/tutorial/tutorial.html)."
   ]
  },
  {
   "cell_type": "markdown",
   "metadata": {},
   "source": [
    "## Introduction Problem: The Krackhardt Kite Graph\n",
    "We will use the Krackhardt Kite for the first exercise. As you know from exercise 1, the Krackhardt Kite is a simple connected, unweighted and undirected graph. [This figure](https://en.wikipedia.org/wiki/Krackhardt_kite_graph#/media/File:Krackhard_kite.PNG) illustrates the Krackhardt Kite.\n",
    "\n",
    "**Calculate the degree centrality of the Krackhardt Kite graph - just a list of ten values, one for each node. You can use the pre-defined function of the igraph library.**\n",
    "\n",
    "**Optional:** Look at the graph and the list with the degree centrality values. Can you identify which node has which degree centrality?<br>\n",
    "**Optional:** Calculate the closeness and betweeness centrality as well. What information do they give us?"
   ]
  },
  {
   "cell_type": "code",
   "execution_count": null,
   "metadata": {
    "scrolled": true
   },
   "outputs": [],
   "source": [
    "import igraph as ig\n",
    "\n",
    "# Importing the graph (connected, unweighted, undirected social network)\n",
    "krackhardt_kite = ig.Graph.Famous('Krackhardt_Kite')\n",
    "\n",
    "# Formatting the graph\n",
    "visual_style = {}\n",
    "visual_style['vertex_size'] = 20\n",
    "visual_style['bbox'] = (300, 300)\n",
    "visual_style['margin'] = 20\n",
    "\n",
    "# TODO: Calculate the Kite's degree centrality\n",
    "\n",
    "# TODO: Plot the graph"
   ]
  },
  {
   "cell_type": "markdown",
   "metadata": {},
   "source": [
    "## Problem 2.1: Degree Centrality\n",
    "In the following three problems, you are working with an anonymized real-life social network from [1] represented in the file _UniversityNetwork.graphml_. It represents the faculty of a university, consisting of individuals (vertices) and their directed and weighted connections (edges). The nodes have attributes (which faculty the person is affiliated with), but we will neglect that information. The edges' weights are a measure of friendship between the persons.\n",
    "\n",
    "**Your task in this exercise is to read in the graph and to calculate the degree centrality of all the nodes in it. Plot the graph as well.** You are **not allowed** to use the pre-defined function `degree()` but have to implement your own. The output should be a list of integers - nodes with a centrality of 0 do not need to be listed, but can be. \n",
    "\n",
    "[1] T. Nepusz et al: _Fuzzy communities and the concept of bridgeness in complex networks._ Physical Review E 77:016107, 2008.\n",
    "\n",
    "**Notes:**\n",
    "* Degree centrality of a graph node is the number of edges (incoming and outgoing) of that node.\n",
    "* The functions `Read_GraphML()` and `are_connected()` might help you with the task."
   ]
  },
  {
   "cell_type": "code",
   "execution_count": null,
   "metadata": {},
   "outputs": [],
   "source": [
    "# Calculates degree centrality for a graph g\n",
    "def degree_centrality(g):\n",
    "    # TODO: Implement the degree centrality\n",
    "\n",
    "# TODO: Import the graph\n",
    "g = \n",
    "\n",
    "# Formatting the graph\n",
    "visual_style = {}\n",
    "visual_style['vertex_size'] = 10\n",
    "visual_style['vertex_label'] = g.vs['id']\n",
    "visual_style['bbox'] = (700, 700)\n",
    "visual_style['margin'] = 50\n",
    "\n",
    "# TODO: Calculate the degree centrality\n",
    "\n",
    "# TODO: Plot the graph"
   ]
  },
  {
   "cell_type": "markdown",
   "metadata": {},
   "source": [
    "## Problem 2.2: Closeness Centrality\n",
    "\n",
    "Now we want to take a closer look at the closeness centrality for the given network. It measures how close a node is to other nodes in the graph. This is calculated via the sum of distances from that node to all the other nodes in the graph.\n",
    "\n",
    "**Write a Python program that computes the closeness centrality for each node for the given social network.** The output should be a list where each item contains the value of the closeness centrality of a node. You are **not allowed** to use the pre-defined function `closeness()` , but you can use it as an inspiration.\n",
    "\n",
    "**Notes:**\n",
    "* The formula for the closeness centrality can be found in the lecture or exercise slides.\n",
    "* Calculating the shortest paths is a common problem, maybe there is a pre-defined function for that?\n",
    "* The edges of the graph have weights which you need to take into account for shortest paths calculation.\n",
    "* You can print the node ID list with: `print(g.vs['id'])`\n",
    "* You can print the edge list with: `print(g)`"
   ]
  },
  {
   "cell_type": "code",
   "execution_count": null,
   "metadata": {
    "scrolled": false
   },
   "outputs": [],
   "source": [
    "# Calculates the closeness centrality for a graph g\n",
    "def closeness_centrality(g):\n",
    "    # TODO: Calculate shortest paths list for each node\n",
    "    \n",
    "    # TODO: Calculate closeness centrality for each node\n",
    "    \n",
    "# TODO: Calculate closeness centrality\n"
   ]
  },
  {
   "cell_type": "markdown",
   "metadata": {},
   "source": [
    "## Problem 2.3: Betweenness Centrality\n",
    "\n",
    "Betweenness centrality also measures centrality based on shortest paths. For every pair of vertices in a graph, there exists a shortest path between the vertices such that either the number of edges that the path passes through (for undirected graphs) or the edges' sum of the weights (for directed graphs) is minimized.<br>\n",
    "Vertices with high betweenness may have considerable influence within a network by virtue of their control over information passing between others.\n",
    "\n",
    "**Calculate the betweenness centrality with the help of the pre-defined function in the igraph library. Interpret the resulting values based on two exemplary nodes.** To do that, pick two nodes and explain how their betweenness centrality links to the graph structure. Name the two nodes that you discussed (and their betweenness centrality). Do not write more than 5 sentences."
   ]
  },
  {
   "cell_type": "code",
   "execution_count": null,
   "metadata": {
    "scrolled": false
   },
   "outputs": [],
   "source": [
    "# TODO: Calculate the betweenness centrality (using the pre-defined function is fine)\n"
   ]
  },
  {
   "cell_type": "markdown",
   "metadata": {},
   "source": [
    "**TODO: Write your discussion here!**"
   ]
  }
 ],
 "metadata": {
  "anaconda-cloud": {},
  "kernelspec": {
   "display_name": "Python 3",
   "language": "python",
   "name": "python3"
  },
  "language_info": {
   "codemirror_mode": {
    "name": "ipython",
    "version": 3
   },
   "file_extension": ".py",
   "mimetype": "text/x-python",
   "name": "python",
   "nbconvert_exporter": "python",
   "pygments_lexer": "ipython3",
   "version": "3.4.3"
  }
 },
 "nbformat": 4,
 "nbformat_minor": 1
}
